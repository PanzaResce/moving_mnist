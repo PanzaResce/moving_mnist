{
  "cells": [
    {
      "attachments": {},
      "cell_type": "markdown",
      "metadata": {
        "id": "v85Qq_p0my49"
      },
      "source": [
        "# Next frame prediction\n",
        "\n",
        "The project consists of predicting the next frame in a short movie sequence.\n",
        "\n",
        "For this project, we shall use the Moving MNIST dataset, composed of 10,000 video sequences, each consisting of 20 frames. In each video sequence, two digits move independently around the frame, which has a spatial resolution of 64×64 pixels. The digits frequently intersect with each other and bounce off the edges of the frame.\n",
        "\n",
        "While each sequence has a lenght of 20, we are supposed to use **only 3 consecutive frames as input**, and **predict the next one**.\n",
        "\n",
        "The metric used to evalaute the quality of the predicted frame is Mean Squared Error."
      ]
    },
    {
      "cell_type": "code",
      "execution_count": 1,
      "metadata": {
        "id": "Wlg8ZSz3FHFh"
      },
      "outputs": [
        {
          "ename": "ModuleNotFoundError",
          "evalue": "No module named 'tensorflow'",
          "output_type": "error",
          "traceback": [
            "\u001b[1;31m---------------------------------------------------------------------------\u001b[0m",
            "\u001b[1;31mModuleNotFoundError\u001b[0m                       Traceback (most recent call last)",
            "\u001b[1;32md:\\shared\\repos\\moving_mnist\\moving_mnist.ipynb Cell 2\u001b[0m line \u001b[0;36m<cell line: 1>\u001b[1;34m()\u001b[0m\n\u001b[1;32m----> <a href='vscode-notebook-cell:/d%3A/shared/repos/moving_mnist/moving_mnist.ipynb#W1sZmlsZQ%3D%3D?line=0'>1</a>\u001b[0m \u001b[39mimport\u001b[39;00m \u001b[39mtensorflow\u001b[39;00m \u001b[39mas\u001b[39;00m \u001b[39mtf\u001b[39;00m\n\u001b[0;32m      <a href='vscode-notebook-cell:/d%3A/shared/repos/moving_mnist/moving_mnist.ipynb#W1sZmlsZQ%3D%3D?line=1'>2</a>\u001b[0m \u001b[39m# import tensorflow_datasets as tfds\u001b[39;00m\n\u001b[0;32m      <a href='vscode-notebook-cell:/d%3A/shared/repos/moving_mnist/moving_mnist.ipynb#W1sZmlsZQ%3D%3D?line=2'>3</a>\u001b[0m \u001b[39mfrom\u001b[39;00m \u001b[39mtensorflow\u001b[39;00m \u001b[39mimport\u001b[39;00m keras\n",
            "\u001b[1;31mModuleNotFoundError\u001b[0m: No module named 'tensorflow'"
          ]
        }
      ],
      "source": [
        "import tensorflow as tf\n",
        "import tensorflow_datasets as tfds\n",
        "from tensorflow import keras\n",
        "from keras.layers import Input, ConvLSTM2D, BatchNormalization, Conv3D, Conv2D, Conv3DTranspose, Attention, Concatenate, MaxPooling3D\n",
        "from keras.regularizers import l2\n",
        "\n",
        "import matplotlib.pyplot as plt\n",
        "import numpy as np"
      ]
    },
    {
      "attachments": {},
      "cell_type": "markdown",
      "metadata": {},
      "source": [
        "Utility functions"
      ]
    },
    {
      "cell_type": "code",
      "execution_count": 2,
      "metadata": {},
      "outputs": [],
      "source": [
        "def image_generator(dataset,batchsize=16,seqlen=4):\n",
        "    while True:\n",
        "      batch_x = np.zeros((batchsize,seqlen-1,64,64,1))\n",
        "      batch_y = np.zeros((batchsize,1,64,64,1))\n",
        "      ran = np.random.randint(dataset.shape[0],size=batchsize)\n",
        "      # add channel dimension\n",
        "      minibatch = np.expand_dims(dataset[ran], axis=-1)\n",
        "      #these sequences have length 20; we reduce them to seqlen\n",
        "      for i in range(batchsize):\n",
        "          random_start = np.random.randint(0,20-seqlen)\n",
        "          random_end = random_start+seqlen-1\n",
        "          batch_x[i] = minibatch[i,random_start:random_end,:,:,:]\n",
        "          batch_y[i] = minibatch[i,random_end:random_end+1,:,:,:]\n",
        "          #print(batch_x.shape,batch_y.shape)\n",
        "          #print(batch_x.min(),batch_x.max())\n",
        "          #print(batch_x.min(),batch_x.max())\n",
        "      yield(batch_x,batch_y)"
      ]
    },
    {
      "cell_type": "code",
      "execution_count": 3,
      "metadata": {},
      "outputs": [],
      "source": [
        "def show_list(images, title=\"Target\"): #takes in input a list of images and plot them\n",
        "    size = len(images)\n",
        "    plt.figure(figsize=(10, 10 * size))\n",
        "    for i in range(size):\n",
        "        plt.subplot(1, size, i + 1)\n",
        "        plt.imshow(images[i],cmap='gray',)\n",
        "        if i == size-1:\n",
        "            plt.title(f\"{title}\")\n",
        "    plt.axis(\"off\")\n",
        "    plt.tight_layout()\n",
        "    plt.show()\n",
        "    plt.close()"
      ]
    },
    {
      "cell_type": "code",
      "execution_count": 4,
      "metadata": {},
      "outputs": [],
      "source": [
        "def compute_mse(model, test_gen, test_step=100):\n",
        "  mse = tf.keras.losses.MeanSquaredError()\n",
        "  \n",
        "  avg_mse = 0\n",
        "\n",
        "  for i in range(test_step):\n",
        "    sample_x, sample_y = next(test_gen)\n",
        "    y_pred = model.predict(sample_x, verbose=0)\n",
        "    \n",
        "    avg_mse += mse(np.squeeze(sample_y), np.squeeze(y_pred)[2]).numpy()\n",
        "\n",
        "  return avg_mse/test_step"
      ]
    },
    {
      "cell_type": "code",
      "execution_count": 5,
      "metadata": {},
      "outputs": [],
      "source": [
        "def visual_test(model, model_name, sample_x, sample_y):\n",
        "\n",
        "    sample_y = np.squeeze(sample_y)\n",
        "    \n",
        "    original_frames = [np.squeeze(sample_x[:,i,:,:,:]) for i in range(3)]\n",
        "    new_prediction = model.predict(sample_x, verbose=0)\n",
        "\n",
        "    show_list(original_frames + [np.squeeze(new_prediction)[-1]], model_name)\n",
        "    # model.evaluate(test_gen, steps=100)"
      ]
    },
    {
      "cell_type": "code",
      "execution_count": 6,
      "metadata": {},
      "outputs": [],
      "source": [
        "def compare_models_visual(models, test_gen):\n",
        "    sample_x, sample_y = next(test_gen)\n",
        "\n",
        "    original_frames = [np.squeeze(sample_x[:,i,:,:,:]) for i in range(3)]\n",
        "\n",
        "    show_list(original_frames + [np.squeeze(sample_y)])\n",
        "\n",
        "    for model in models.values():\n",
        "        visual_test(model[\"model\"], model[\"name\"], sample_x, sample_y)"
      ]
    },
    {
      "cell_type": "code",
      "execution_count": 7,
      "metadata": {},
      "outputs": [],
      "source": [
        "def compare_models_mse(models, test_gen):\n",
        "    for model in models.values():\n",
        "        print(f'Evaluating {model[\"name\"]}')\n",
        "        model[\"model\"].evaluate(test_gen, steps=1000, verbose=1)\n",
        "        # print(f'Loss: {res[0]} - MSE: {res[1]}')\n",
        "        # mse = compute_mse(model[\"model\"], test_gen)"
      ]
    },
    {
      "cell_type": "code",
      "execution_count": 8,
      "metadata": {},
      "outputs": [],
      "source": [
        "def train_model(model, train_gen, val_gen, epochs=20, steps_per_epoch=100, val_steps=10, callbacks=[]):\n",
        "    history = model.fit(\n",
        "        train_gen,\n",
        "        epochs=epochs,\n",
        "        steps_per_epoch=steps_per_epoch,\n",
        "        validation_steps=val_steps,\n",
        "        validation_data=val_gen,\n",
        "        callbacks=callbacks,\n",
        "    )\n",
        "    return history"
      ]
    },
    {
      "cell_type": "code",
      "execution_count": 9,
      "metadata": {},
      "outputs": [],
      "source": [
        "def get_weights_range(model):\n",
        "    min_value = np.inf\n",
        "    max_value = -np.inf\n",
        "\n",
        "    for layer_weights in model.get_weights():\n",
        "        layer_min = np.min(layer_weights)\n",
        "        layer_max = np.max(layer_weights)\n",
        "        \n",
        "        if layer_min < min_value:\n",
        "            min_value = layer_min\n",
        "        if layer_max > max_value:\n",
        "            max_value = layer_max\n",
        "\n",
        "    print(f\"Weight range: {min_value} - {max_value}\")"
      ]
    },
    {
      "cell_type": "code",
      "execution_count": 10,
      "metadata": {},
      "outputs": [],
      "source": [
        "def plot_weight_distribution(model):\n",
        "    # Get the weights of the model\n",
        "    weights = model.get_weights()\n",
        "    \n",
        "    # Concatenate all weights into a single 1D array\n",
        "    flattened_weights = np.concatenate([w.flatten() for w in weights])\n",
        "    \n",
        "    # Plot the weight value distribution\n",
        "    plt.hist(flattened_weights, bins=100)\n",
        "    plt.xlabel('Weight Values')\n",
        "    plt.ylabel('Frequency')\n",
        "    plt.title('Weight Value Distribution')\n",
        "    plt.show()"
      ]
    },
    {
      "cell_type": "code",
      "execution_count": 11,
      "metadata": {},
      "outputs": [],
      "source": [
        "def buildInceptionModule(input_layer):\n",
        "    tower_1 = Conv2D(64, (1,1), padding='same', activation='relu')(input_layer)\n",
        "    tower_1 = Conv2D(64, (5,5), padding='same', activation='relu')(tower_1)\n",
        "\n",
        "    tower_2 = Conv2D(64, (1,1), padding='same', activation='relu')(input_layer)\n",
        "    tower_2 = Conv2D(64, (3,3), padding='same', activation='relu')(tower_2)    \n",
        "    \n",
        "    tower_3 = MaxPooling3D((3,3,3), strides=(1,1,1), padding='same')(input_layer)\n",
        "    tower_3 = Conv2D(64, (1,1), padding='same', activation='relu')(tower_3)\n",
        "    \n",
        "    tower_4 = Conv2D(64, (1,1), padding='same', activation='relu')(input_layer)\n",
        "\n",
        "    output = keras.layers.concatenate([tower_1, tower_2, tower_3, tower_4])\n",
        "\n",
        "    return output"
      ]
    },
    {
      "cell_type": "markdown",
      "metadata": {},
      "source": [
        "Custom Callback"
      ]
    },
    {
      "cell_type": "code",
      "execution_count": 12,
      "metadata": {},
      "outputs": [],
      "source": [
        "class CustomLearningRateScheduler(keras.callbacks.Callback):\n",
        "    \"\"\"Learning rate scheduler which sets the learning rate according to schedule.\n",
        "\n",
        "  Arguments:\n",
        "      schedule: a function that takes an epoch index\n",
        "          (integer, indexed from 0) and current learning rate\n",
        "          as inputs and returns a new learning rate as output (float).\n",
        "  \"\"\"\n",
        "\n",
        "    def __init__(self, schedule):\n",
        "        super().__init__()\n",
        "        self.schedule = schedule\n",
        "        self.current_lr = None\n",
        "\n",
        "    def lr_schedule(self, epoch, lr):\n",
        "        \"\"\"Helper function to retrieve the scheduled learning rate based on epoch.\"\"\"\n",
        "        if epoch < self.schedule[0][0] or epoch > self.schedule[-1][0]:\n",
        "            return lr\n",
        "        for i in range(len(self.schedule)):\n",
        "            if epoch == self.schedule[i][0]:\n",
        "                return self.schedule[i][1]\n",
        "        return lr\n",
        "\n",
        "    def on_epoch_begin(self, epoch, logs=None):\n",
        "        if not hasattr(self.model.optimizer, \"lr\"):\n",
        "            raise ValueError('Optimizer must have a \"lr\" attribute.')\n",
        "        # Get the current learning rate from model's optimizer.\n",
        "        lr = float(tf.keras.backend.get_value(self.model.optimizer.learning_rate))\n",
        "        # Call schedule function to get the scheduled learning rate.\n",
        "        self.current_lr = self.lr_schedule(epoch, lr)\n",
        "        # Set the value back to the optimizer before this epoch starts\n",
        "        tf.keras.backend.set_value(self.model.optimizer.lr, self.current_lr)\n",
        "        # print(\" LR %6.4f.\" % (self.current_lr))\n",
        "    \n",
        "    def on_epoch_end(self, epoch, logs=None):\n",
        "        logs = logs or {}\n",
        "        logs[\"lr\"] = self.current_lr"
      ]
    },
    {
      "attachments": {},
      "cell_type": "markdown",
      "metadata": {},
      "source": [
        "Data loading"
      ]
    },
    {
      "cell_type": "code",
      "execution_count": 9,
      "metadata": {
        "colab": {
          "base_uri": "https://localhost:8080/"
        },
        "id": "0nyzhFRDVuFw",
        "outputId": "5077e71c-f8af-49b2-ce47-f4f476104b87"
      },
      "outputs": [],
      "source": [
        "# Use this one to load directly from tensorflow_dataset\n",
        "\n",
        "# ds = tfds.as_numpy(tfds.load(\n",
        "#     'moving_mnist',\n",
        "#     split='test',\n",
        "#     batch_size=-1\n",
        "# ))\n",
        "# sequences = ds['image_sequence']"
      ]
    },
    {
      "cell_type": "code",
      "execution_count": 13,
      "metadata": {},
      "outputs": [
        {
          "data": {
            "text/plain": [
              "(20, 10000, 64, 64)"
            ]
          },
          "execution_count": 13,
          "metadata": {},
          "output_type": "execute_result"
        }
      ],
      "source": [
        "# Use this to load from file, this approach weigh less on RAM\n",
        "sequences=np.load('./mnist_test_seq.npy')\n",
        "sequences.shape"
      ]
    },
    {
      "attachments": {},
      "cell_type": "markdown",
      "metadata": {
        "id": "JXFR88VToaSz"
      },
      "source": [
        "The dataset is composed of 10000 sequences of 20 frames each. Each (grayscale) frame has dimnesion 64x64"
      ]
    },
    {
      "cell_type": "code",
      "execution_count": 14,
      "metadata": {
        "colab": {
          "base_uri": "https://localhost:8080/"
        },
        "id": "ZkS8Z9bXVxVG",
        "outputId": "31d99b5f-3ce5-4a9f-a2a3-3d7dbbaea07f"
      },
      "outputs": [
        {
          "name": "stdout",
          "output_type": "stream",
          "text": [
            "(10000, 20, 64, 64)\n",
            "0.0 1.0\n"
          ]
        }
      ],
      "source": [
        "# sequences = np.squeeze(np.swapaxes(sequences, 1, 4),axis=1)/255.\n",
        "sequences = np.swapaxes(sequences, 0, 1)/255.\n",
        "print(sequences.shape)\n",
        "print(np.min(sequences),np.max(sequences))"
      ]
    },
    {
      "cell_type": "code",
      "execution_count": 15,
      "metadata": {},
      "outputs": [],
      "source": [
        "train_samples = 8000"
      ]
    },
    {
      "cell_type": "code",
      "execution_count": 16,
      "metadata": {
        "id": "CZSAjVd9bYhl"
      },
      "outputs": [],
      "source": [
        "trainset = sequences[:train_samples]\n",
        "valset = sequences[train_samples:train_samples+1000]\n",
        "testset = sequences[train_samples:train_samples+1000]"
      ]
    },
    {
      "cell_type": "code",
      "execution_count": 16,
      "metadata": {},
      "outputs": [
        {
          "data": {
            "text/plain": [
              "(1000, 20, 64, 64)"
            ]
          },
          "execution_count": 16,
          "metadata": {},
          "output_type": "execute_result"
        }
      ],
      "source": [
        "testset.shape"
      ]
    },
    {
      "cell_type": "code",
      "execution_count": 17,
      "metadata": {
        "id": "ZedwxykwK_8D"
      },
      "outputs": [],
      "source": [
        "train_gen = image_generator(trainset, batchsize=16)\n",
        "val_gen = image_generator(valset, batchsize=16)\n",
        "test_gen = image_generator(valset, batchsize=1)"
      ]
    },
    {
      "cell_type": "code",
      "execution_count": 18,
      "metadata": {
        "colab": {
          "base_uri": "https://localhost:8080/"
        },
        "id": "PXIoWhFvL6uK",
        "outputId": "40cc76ec-af6e-4123-8272-68e1103a6a72"
      },
      "outputs": [],
      "source": [
        "sample_x, sample_y = next(train_gen)"
      ]
    },
    {
      "cell_type": "code",
      "execution_count": 19,
      "metadata": {},
      "outputs": [
        {
          "data": {
            "text/plain": [
              "(16, 3, 64, 64, 1)"
            ]
          },
          "execution_count": 19,
          "metadata": {},
          "output_type": "execute_result"
        }
      ],
      "source": [
        "sample_x.shape"
      ]
    },
    {
      "cell_type": "markdown",
      "metadata": {},
      "source": [
        "We start analyzing the problem by tacking as baseline the 3 layer convolutional LSTM model proposed in the keras documentation (https://keras.io/examples/vision/conv_lstm/).\n",
        "\n",
        "The training is set up with 300 steps per epoch and 20 epochs to have approximately 20 minutes training per model on my machine, in this way we can try different models with different setup and hyperparameters without waiting too much. \n",
        "After this first phase we can train the most promising model more extensively with 500 steps per epoch and 30 epochs.\n",
        "\n",
        "In the initial setup (300/20) the 3-layer LSTM model had an avg. MSE of 0.016, this initial value was taken as a baseline for the different models tried later.\n",
        "The architectures that follows are mostly based on the literature on the moving MNIST dataset, although in the papers usually the input is a sequence of 10 frames.\n",
        "\n",
        "Simply using larger kernels (7x7) did not improve the score, although there are some competitive models (SimVP) that are able to achieve state-of-the-art results with even bigger kernels (9x9). Moreover batch normalization and weight decay seems to be beneficial to almost all the models.\n",
        "All the models were trained with a learning rate of 0.005 for the first 10 epoch and 0.001 for the remaining 10, this schedule was derived empirically, of course more grounded tests like learning range test would give more reliable values. \n",
        "\n",
        "Following there is a list of the trained architectures:\n",
        "\n",
        "- Encoder-Decoder\n",
        "- Encoder-Decoder with attentioned input\n",
        "- Encoder-Decoder with attentioned input and attention layer before decoder\n",
        "- Encoder-Decoder with attentioned input and residual connection\n",
        "- Encoder-Decoder with vanilla inception module before decoder "
      ]
    },
    {
      "cell_type": "markdown",
      "metadata": {},
      "source": [
        "## Models Definitions"
      ]
    },
    {
      "cell_type": "code",
      "execution_count": null,
      "metadata": {},
      "outputs": [
        {
          "name": "stdout",
          "output_type": "stream",
          "text": [
            "Model: \"model_1\"\n",
            "_________________________________________________________________\n",
            " Layer (type)                Output Shape              Param #   \n",
            "=================================================================\n",
            " input_2 (InputLayer)        [(None, 3, 64, 64, 1)]    0         \n",
            "                                                                 \n",
            " conv2d (Conv2D)             (None, 3, 64, 64, 64)     1664      \n",
            "                                                                 \n",
            " batch_normalization_3 (Batc  (None, 3, 64, 64, 64)    256       \n",
            " hNormalization)                                                 \n",
            "                                                                 \n",
            " conv3d_1 (Conv3D)           (None, 3, 64, 64, 1)      1729      \n",
            "                                                                 \n",
            "=================================================================\n",
            "Total params: 3,649\n",
            "Trainable params: 3,521\n",
            "Non-trainable params: 128\n",
            "_________________________________________________________________\n"
          ]
        }
      ],
      "source": [
        "# One layer Conv\n",
        "inp = Input(shape=(3, 64, 64, 1))\n",
        "\n",
        "conv1 = Conv2D(\n",
        "    filters=64,\n",
        "    kernel_size=(5, 5),\n",
        "    padding='same',\n",
        "    # return_sequences=True,\n",
        "    kernel_regularizer=l2(0.01),\n",
        "    activation=\"relu\",)(inp)\n",
        "norm1 = BatchNormalization()(conv1)\n",
        "\n",
        "out = Conv3D(\n",
        "    filters=1, kernel_size=(3, 3, 3), activation=\"sigmoid\", padding=\"same\")(norm1)\n",
        "\n",
        "model_1_conv = keras.models.Model(inp, out)\n",
        "model_1_conv.compile(loss=keras.losses.binary_crossentropy, optimizer=keras.optimizers.Adam(learning_rate=0.005), metrics=['mse'])\n",
        "\n",
        "model_1_conv.summary()"
      ]
    },
    {
      "cell_type": "code",
      "execution_count": null,
      "metadata": {},
      "outputs": [
        {
          "name": "stdout",
          "output_type": "stream",
          "text": [
            "Model: \"model_2\"\n",
            "_________________________________________________________________\n",
            " Layer (type)                Output Shape              Param #   \n",
            "=================================================================\n",
            " input_3 (InputLayer)        [(None, None, 64, 64, 1)  0         \n",
            "                             ]                                   \n",
            "                                                                 \n",
            " conv_lstm2d_3 (ConvLSTM2D)  (None, None, 64, 64, 64)  815616    \n",
            "                                                                 \n",
            " batch_normalization_4 (Batc  (None, None, 64, 64, 64)  256      \n",
            " hNormalization)                                                 \n",
            "                                                                 \n",
            " conv2d_1 (Conv2D)           (None, None, 64, 64, 1)   3137      \n",
            "                                                                 \n",
            "=================================================================\n",
            "Total params: 819,009\n",
            "Trainable params: 818,881\n",
            "Non-trainable params: 128\n",
            "_________________________________________________________________\n"
          ]
        }
      ],
      "source": [
        "# One layer LSTM Convolution\n",
        "inp = Input(shape=(None, 64, 64, 1))\n",
        "\n",
        "conv1 = ConvLSTM2D(\n",
        "    filters=64,\n",
        "    kernel_size=(7, 7),\n",
        "    padding='same',\n",
        "    return_sequences=True,\n",
        "    kernel_regularizer=l2(0.001),\n",
        "    activation=\"relu\",)(inp)\n",
        "\n",
        "norm1 = BatchNormalization()(conv1)\n",
        "\n",
        "out = Conv2D(\n",
        "    filters=1, kernel_size=(7, 7), activation=\"sigmoid\", padding=\"same\")(norm1)\n",
        "\n",
        "model_1lstm_conv = keras.models.Model(inp, out)\n",
        "model_1lstm_conv.compile(loss=keras.losses.binary_crossentropy, optimizer=keras.optimizers.Adam(learning_rate=0.005), metrics=['mse'])\n",
        "\n",
        "model_1lstm_conv.summary()"
      ]
    },
    {
      "cell_type": "code",
      "execution_count": 31,
      "metadata": {},
      "outputs": [
        {
          "name": "stdout",
          "output_type": "stream",
          "text": [
            "Model: \"model_6\"\n",
            "_________________________________________________________________\n",
            " Layer (type)                Output Shape              Param #   \n",
            "=================================================================\n",
            " input_7 (InputLayer)        [(None, None, 64, 64, 1)  0         \n",
            "                             ]                                   \n",
            "                                                                 \n",
            " conv_lstm2d_19 (ConvLSTM2D)  (None, None, 64, 64, 64)  416256   \n",
            "                                                                 \n",
            " batch_normalization_16 (Bat  (None, None, 64, 64, 64)  256      \n",
            " chNormalization)                                                \n",
            "                                                                 \n",
            " conv_lstm2d_20 (ConvLSTM2D)  (None, None, 64, 64, 64)  819456   \n",
            "                                                                 \n",
            " batch_normalization_17 (Bat  (None, None, 64, 64, 64)  256      \n",
            " chNormalization)                                                \n",
            "                                                                 \n",
            " conv_lstm2d_21 (ConvLSTM2D)  (None, None, 64, 64, 64)  819456   \n",
            "                                                                 \n",
            " conv3d_6 (Conv3D)           (None, None, 64, 64, 1)   1729      \n",
            "                                                                 \n",
            "=================================================================\n",
            "Total params: 2,057,409\n",
            "Trainable params: 2,057,153\n",
            "Non-trainable params: 256\n",
            "_________________________________________________________________\n"
          ]
        }
      ],
      "source": [
        "# 3 layer LSTM Convolution\n",
        "inp = Input(shape=(None, 64, 64, 1))\n",
        "\n",
        "conv1 = ConvLSTM2D(\n",
        "    filters=64,\n",
        "    kernel_size=(5, 5),\n",
        "    padding=\"same\",\n",
        "    return_sequences=True,\n",
        "    activation=\"relu\",\n",
        ")(inp)\n",
        "norm1 = BatchNormalization()(conv1)\n",
        "\n",
        "conv2 = ConvLSTM2D(\n",
        "    filters=64,\n",
        "    kernel_size=(5, 5),\n",
        "    padding=\"same\",\n",
        "    return_sequences=True,\n",
        "    activation=\"relu\",\n",
        ")(norm1)\n",
        "norm2 = BatchNormalization()(conv2)\n",
        "\n",
        "conv3 = ConvLSTM2D(\n",
        "    filters=64,\n",
        "    kernel_size=(5, 5),\n",
        "    padding=\"same\",\n",
        "    return_sequences=True,\n",
        "    activation=\"relu\",\n",
        ")(norm2)\n",
        "\n",
        "out = Conv3D(\n",
        "    filters=1, \n",
        "    kernel_size=(3, 3, 3),\n",
        "    kernel_regularizer=l2(0.01),\n",
        "    padding=\"same\", \n",
        "    activation=\"sigmoid\", \n",
        ")(conv3)\n",
        "\n",
        "model_3lstm_conv = keras.models.Model(inp, out)\n",
        "model_3lstm_conv.compile(loss=keras.losses.binary_crossentropy, optimizer=keras.optimizers.Adam(learning_rate=0.005, weight_decay=0.0001), metrics=['mse'])\n",
        "\n",
        "model_3lstm_conv.summary()"
      ]
    },
    {
      "cell_type": "code",
      "execution_count": 22,
      "metadata": {},
      "outputs": [
        {
          "name": "stdout",
          "output_type": "stream",
          "text": [
            "Model: \"model_4\"\n",
            "_________________________________________________________________\n",
            " Layer (type)                Output Shape              Param #   \n",
            "=================================================================\n",
            " input_5 (InputLayer)        [(None, None, 64, 64, 1)  0         \n",
            "                             ]                                   \n",
            "                                                                 \n",
            " conv_lstm2d_13 (ConvLSTM2D)  (None, None, 64, 64, 64)  416256   \n",
            "                                                                 \n",
            " batch_normalization_12 (Bat  (None, None, 64, 64, 64)  256      \n",
            " chNormalization)                                                \n",
            "                                                                 \n",
            " conv_lstm2d_14 (ConvLSTM2D)  (None, None, 32, 32, 64)  819456   \n",
            "                                                                 \n",
            " batch_normalization_13 (Bat  (None, None, 32, 32, 64)  256      \n",
            " chNormalization)                                                \n",
            "                                                                 \n",
            " conv_lstm2d_15 (ConvLSTM2D)  (None, None, 32, 32, 64)  819456   \n",
            "                                                                 \n",
            " conv3d_transpose_4 (Conv3DT  (None, None, 64, 64, 64)  307264   \n",
            " ranspose)                                                       \n",
            "                                                                 \n",
            " conv3d_4 (Conv3D)           (None, None, 64, 64, 1)   1729      \n",
            "                                                                 \n",
            "=================================================================\n",
            "Total params: 2,364,673\n",
            "Trainable params: 2,364,417\n",
            "Non-trainable params: 256\n",
            "_________________________________________________________________\n"
          ]
        }
      ],
      "source": [
        "# Autoencoder Convolutional LSTM\n",
        "inp = Input(shape=(None, 64, 64, 1))\n",
        "\n",
        "enc1 = ConvLSTM2D(\n",
        "    filters=64,\n",
        "    kernel_size=(5, 5),\n",
        "    padding='same',\n",
        "    return_sequences=True,\n",
        "    activation=\"relu\",)(inp)\n",
        "norm1 = BatchNormalization()(enc1)\n",
        "\n",
        "enc2 = ConvLSTM2D(\n",
        "    filters=64,\n",
        "    kernel_size=(5, 5),\n",
        "    strides=(2,2),\n",
        "    padding='same',\n",
        "    return_sequences=True,\n",
        "    activation=\"relu\",)(norm1)\n",
        "norm2 = BatchNormalization()(enc2)\n",
        "\n",
        "dec1 = ConvLSTM2D(\n",
        "    filters=64,\n",
        "    kernel_size=(5, 5),\n",
        "    padding='same',\n",
        "    return_sequences=True,\n",
        "    activation=\"relu\",)(norm2)\n",
        "\n",
        "dec2 = Conv3DTranspose(\n",
        "    filters=64,\n",
        "    kernel_size=(3, 5, 5),\n",
        "    strides=(1, 2, 2),\n",
        "    padding='same'\n",
        ")(dec1)\n",
        "\n",
        "out = Conv3D(\n",
        "    filters=1, kernel_size=(3, 3, 3), activation=\"sigmoid\", padding=\"same\")(dec2)\n",
        "\n",
        "\n",
        "model_autoenc = keras.models.Model(inp, out)\n",
        "model_autoenc.compile(loss=keras.losses.binary_crossentropy, optimizer=keras.optimizers.Adam(learning_rate=0.005, weight_decay=0.0001), metrics=['mse'])\n",
        "\n",
        "model_autoenc.summary()"
      ]
    },
    {
      "cell_type": "code",
      "execution_count": 21,
      "metadata": {},
      "outputs": [
        {
          "name": "stdout",
          "output_type": "stream",
          "text": [
            "Model: \"model_3\"\n",
            "__________________________________________________________________________________________________\n",
            " Layer (type)                   Output Shape         Param #     Connected to                     \n",
            "==================================================================================================\n",
            " input_4 (InputLayer)           [(None, None, 64, 6  0           []                               \n",
            "                                4, 1)]                                                            \n",
            "                                                                                                  \n",
            " attention_3 (Attention)        (None, None, 64, 64  0           ['input_4[0][0]',                \n",
            "                                , 1)                              'input_4[0][0]']                \n",
            "                                                                                                  \n",
            " conv_lstm2d_10 (ConvLSTM2D)    (None, None, 64, 64  416256      ['attention_3[0][0]']            \n",
            "                                , 64)                                                             \n",
            "                                                                                                  \n",
            " batch_normalization_9 (BatchNo  (None, None, 64, 64  256        ['conv_lstm2d_10[0][0]']         \n",
            " rmalization)                   , 64)                                                             \n",
            "                                                                                                  \n",
            " conv_lstm2d_11 (ConvLSTM2D)    (None, None, 32, 32  819456      ['batch_normalization_9[0][0]']  \n",
            "                                , 64)                                                             \n",
            "                                                                                                  \n",
            " batch_normalization_10 (BatchN  (None, None, 32, 32  256        ['conv_lstm2d_11[0][0]']         \n",
            " ormalization)                  , 64)                                                             \n",
            "                                                                                                  \n",
            " conv_lstm2d_12 (ConvLSTM2D)    (None, None, 32, 32  819456      ['batch_normalization_10[0][0]'] \n",
            "                                , 64)                                                             \n",
            "                                                                                                  \n",
            " batch_normalization_11 (BatchN  (None, None, 32, 32  256        ['conv_lstm2d_12[0][0]']         \n",
            " ormalization)                  , 64)                                                             \n",
            "                                                                                                  \n",
            " conv3d_transpose_3 (Conv3DTran  (None, None, 64, 64  307264     ['batch_normalization_11[0][0]'] \n",
            " spose)                         , 64)                                                             \n",
            "                                                                                                  \n",
            " conv3d_3 (Conv3D)              (None, None, 64, 64  1729        ['conv3d_transpose_3[0][0]']     \n",
            "                                , 1)                                                              \n",
            "                                                                                                  \n",
            "==================================================================================================\n",
            "Total params: 2,364,929\n",
            "Trainable params: 2,364,545\n",
            "Non-trainable params: 384\n",
            "__________________________________________________________________________________________________\n"
          ]
        }
      ],
      "source": [
        "# Autoencoder Attention Convolutional LSTM\n",
        "inp = Input(shape=(None, 64, 64, 1))\n",
        "\n",
        "att1 = Attention()([inp, inp])\n",
        "\n",
        "enc1 = ConvLSTM2D(\n",
        "    filters=64,\n",
        "    kernel_size=(5, 5),\n",
        "    padding='same',\n",
        "    return_sequences=True,\n",
        "    activation=\"relu\",)(att1)\n",
        "norm1 = BatchNormalization()(enc1)\n",
        "\n",
        "enc2 = ConvLSTM2D(\n",
        "    filters=64,\n",
        "    kernel_size=(5, 5),\n",
        "    strides=(2,2),\n",
        "    padding='same',\n",
        "    return_sequences=True,\n",
        "    activation=\"relu\",)(norm1)\n",
        "norm2 = BatchNormalization()(enc2)\n",
        "\n",
        "\n",
        "dec1 = ConvLSTM2D(\n",
        "    filters=64,\n",
        "    kernel_size=(5, 5),\n",
        "    padding='same',\n",
        "    return_sequences=True,\n",
        "    activation=\"relu\",)(norm2)\n",
        "norm3 = BatchNormalization()(dec1)\n",
        "\n",
        "dec2 = Conv3DTranspose(\n",
        "    filters=64,\n",
        "    kernel_size=(3, 5, 5),\n",
        "    strides=(1, 2, 2),\n",
        "    padding='same'\n",
        ")(norm3)\n",
        "\n",
        "out = Conv3D(\n",
        "    filters=1, kernel_size=(3, 3, 3), activation=\"sigmoid\", padding=\"same\")(dec2)\n",
        "\n",
        "\n",
        "model_autoenc_att = keras.models.Model(inp, out)\n",
        "# model_autoenc_att.compile(loss=keras.losses.binary_crossentropy, optimizer=keras.optimizers.Adam(learning_rate=0.005), metrics=['mse'])\n",
        "model_autoenc_att.compile(loss=keras.losses.binary_crossentropy, optimizer=keras.optimizers.Adam(learning_rate=0.005, weight_decay=0.0001), metrics=['mse'])\n",
        "\n",
        "model_autoenc_att.summary()"
      ]
    },
    {
      "cell_type": "code",
      "execution_count": 20,
      "metadata": {},
      "outputs": [
        {
          "name": "stdout",
          "output_type": "stream",
          "text": [
            "Model: \"model_2\"\n",
            "__________________________________________________________________________________________________\n",
            " Layer (type)                   Output Shape         Param #     Connected to                     \n",
            "==================================================================================================\n",
            " input_3 (InputLayer)           [(None, None, 64, 6  0           []                               \n",
            "                                4, 1)]                                                            \n",
            "                                                                                                  \n",
            " attention_1 (Attention)        (None, None, 64, 64  0           ['input_3[0][0]',                \n",
            "                                , 1)                              'input_3[0][0]']                \n",
            "                                                                                                  \n",
            " conv_lstm2d_7 (ConvLSTM2D)     (None, None, 64, 64  416256      ['attention_1[0][0]']            \n",
            "                                , 64)                                                             \n",
            "                                                                                                  \n",
            " batch_normalization_6 (BatchNo  (None, None, 64, 64  256        ['conv_lstm2d_7[0][0]']          \n",
            " rmalization)                   , 64)                                                             \n",
            "                                                                                                  \n",
            " conv_lstm2d_8 (ConvLSTM2D)     (None, None, 32, 32  819456      ['batch_normalization_6[0][0]']  \n",
            "                                , 64)                                                             \n",
            "                                                                                                  \n",
            " batch_normalization_7 (BatchNo  (None, None, 32, 32  256        ['conv_lstm2d_8[0][0]']          \n",
            " rmalization)                   , 64)                                                             \n",
            "                                                                                                  \n",
            " attention_2 (Attention)        (None, None, 32, 32  0           ['batch_normalization_7[0][0]',  \n",
            "                                , 64)                             'batch_normalization_7[0][0]']  \n",
            "                                                                                                  \n",
            " conv_lstm2d_9 (ConvLSTM2D)     (None, None, 32, 32  819456      ['attention_2[0][0]']            \n",
            "                                , 64)                                                             \n",
            "                                                                                                  \n",
            " batch_normalization_8 (BatchNo  (None, None, 32, 32  256        ['conv_lstm2d_9[0][0]']          \n",
            " rmalization)                   , 64)                                                             \n",
            "                                                                                                  \n",
            " conv3d_transpose_2 (Conv3DTran  (None, None, 64, 64  307264     ['batch_normalization_8[0][0]']  \n",
            " spose)                         , 64)                                                             \n",
            "                                                                                                  \n",
            " conv3d_2 (Conv3D)              (None, None, 64, 64  1729        ['conv3d_transpose_2[0][0]']     \n",
            "                                , 1)                                                              \n",
            "                                                                                                  \n",
            "==================================================================================================\n",
            "Total params: 2,364,929\n",
            "Trainable params: 2,364,545\n",
            "Non-trainable params: 384\n",
            "__________________________________________________________________________________________________\n"
          ]
        }
      ],
      "source": [
        "# Attention-Encoder-Attention-Decoder Convolutional LSTM\n",
        "inp = Input(shape=(None, 64, 64, 1))\n",
        "\n",
        "att1 = Attention()([inp, inp])\n",
        "\n",
        "enc1 = ConvLSTM2D(\n",
        "    filters=64,\n",
        "    kernel_size=(5, 5),\n",
        "    padding='same',\n",
        "    return_sequences=True,\n",
        "    activation=\"relu\",)(att1)\n",
        "norm1 = BatchNormalization()(enc1)\n",
        "\n",
        "enc2 = ConvLSTM2D(\n",
        "    filters=64,\n",
        "    kernel_size=(5, 5),\n",
        "    strides=(2,2),\n",
        "    padding='same',\n",
        "    return_sequences=True,\n",
        "    activation=\"relu\",)(norm1)\n",
        "norm2 = BatchNormalization()(enc2)\n",
        "\n",
        "att2 = Attention()([norm2, norm2])\n",
        "\n",
        "dec1 = ConvLSTM2D(\n",
        "    filters=64,\n",
        "    kernel_size=(5, 5),\n",
        "    padding='same',\n",
        "    return_sequences=True,\n",
        "    activation=\"relu\",)(att2)\n",
        "norm3 = BatchNormalization()(dec1)\n",
        "\n",
        "dec2 = Conv3DTranspose(\n",
        "    filters=64,\n",
        "    kernel_size=(3, 5, 5),\n",
        "    strides=(1, 2, 2),\n",
        "    padding='same'\n",
        ")(norm3)\n",
        "\n",
        "out = Conv3D(\n",
        "    filters=1, kernel_size=(3, 3, 3), activation=\"sigmoid\", padding=\"same\")(dec2)\n",
        "\n",
        "\n",
        "model_autoenc_att2 = keras.models.Model(inp, out)\n",
        "# model_autoenc_att.compile(loss=keras.losses.binary_crossentropy, optimizer=keras.optimizers.Adam(learning_rate=0.005), metrics=['mse'])\n",
        "model_autoenc_att2.compile(loss=keras.losses.binary_crossentropy, optimizer=keras.optimizers.Adam(learning_rate=0.005, weight_decay=0.0001), metrics=['mse'])\n",
        "\n",
        "model_autoenc_att2.summary()"
      ]
    },
    {
      "cell_type": "code",
      "execution_count": 19,
      "metadata": {},
      "outputs": [
        {
          "name": "stdout",
          "output_type": "stream",
          "text": [
            "Model: \"model_1\"\n",
            "__________________________________________________________________________________________________\n",
            " Layer (type)                   Output Shape         Param #     Connected to                     \n",
            "==================================================================================================\n",
            " input_2 (InputLayer)           [(None, None, 64, 6  0           []                               \n",
            "                                4, 1)]                                                            \n",
            "                                                                                                  \n",
            " attention (Attention)          (None, None, 64, 64  0           ['input_2[0][0]',                \n",
            "                                , 1)                              'input_2[0][0]']                \n",
            "                                                                                                  \n",
            " conv_lstm2d_3 (ConvLSTM2D)     (None, None, 64, 64  416256      ['attention[0][0]']              \n",
            "                                , 64)                                                             \n",
            "                                                                                                  \n",
            " batch_normalization_3 (BatchNo  (None, None, 64, 64  256        ['conv_lstm2d_3[0][0]']          \n",
            " rmalization)                   , 64)                                                             \n",
            "                                                                                                  \n",
            " conv_lstm2d_4 (ConvLSTM2D)     (None, None, 32, 32  819456      ['batch_normalization_3[0][0]']  \n",
            "                                , 64)                                                             \n",
            "                                                                                                  \n",
            " batch_normalization_4 (BatchNo  (None, None, 32, 32  256        ['conv_lstm2d_4[0][0]']          \n",
            " rmalization)                   , 64)                                                             \n",
            "                                                                                                  \n",
            " conv_lstm2d_5 (ConvLSTM2D)     (None, None, 32, 32  819456      ['batch_normalization_4[0][0]']  \n",
            "                                , 64)                                                             \n",
            "                                                                                                  \n",
            " batch_normalization_5 (BatchNo  (None, None, 32, 32  256        ['conv_lstm2d_5[0][0]']          \n",
            " rmalization)                   , 64)                                                             \n",
            "                                                                                                  \n",
            " conv3d_transpose_1 (Conv3DTran  (None, None, 64, 64  307264     ['batch_normalization_5[0][0]']  \n",
            " spose)                         , 64)                                                             \n",
            "                                                                                                  \n",
            " concatenate_1 (Concatenate)    (None, None, 64, 64  0           ['batch_normalization_3[0][0]',  \n",
            "                                , 128)                            'conv3d_transpose_1[0][0]']     \n",
            "                                                                                                  \n",
            " conv_lstm2d_6 (ConvLSTM2D)     (None, None, 64, 64  1229056     ['concatenate_1[0][0]']          \n",
            "                                , 64)                                                             \n",
            "                                                                                                  \n",
            " conv3d_1 (Conv3D)              (None, None, 64, 64  1729        ['conv_lstm2d_6[0][0]']          \n",
            "                                , 1)                                                              \n",
            "                                                                                                  \n",
            "==================================================================================================\n",
            "Total params: 3,593,985\n",
            "Trainable params: 3,593,601\n",
            "Non-trainable params: 384\n",
            "__________________________________________________________________________________________________\n"
          ]
        }
      ],
      "source": [
        "# Autoencoder+Attention+Residual Convolutional LSTM\n",
        "inp = Input(shape=(None, 64, 64, 1))\n",
        "\n",
        "att1 = Attention()([inp, inp])\n",
        "\n",
        "enc1 = ConvLSTM2D(\n",
        "    filters=64,\n",
        "    kernel_size=(5, 5),\n",
        "    padding='same',\n",
        "    return_sequences=True,\n",
        "    activation=\"relu\",)(att1)\n",
        "norm1 = BatchNormalization()(enc1)\n",
        "\n",
        "enc2 = ConvLSTM2D(\n",
        "    filters=64,\n",
        "    kernel_size=(5, 5),\n",
        "    strides=(2,2),\n",
        "    padding='same',\n",
        "    return_sequences=True,\n",
        "    activation=\"relu\",)(norm1)\n",
        "norm2 = BatchNormalization()(enc2)\n",
        "\n",
        "dec1 = ConvLSTM2D(\n",
        "    filters=64,\n",
        "    kernel_size=(5, 5),\n",
        "    padding='same',\n",
        "    return_sequences=True,\n",
        "    activation=\"relu\",)(norm2)\n",
        "norm3 = BatchNormalization()(dec1)\n",
        "\n",
        "dec2 = Conv3DTranspose(\n",
        "    filters=64,\n",
        "    kernel_size=(3, 5, 5),\n",
        "    strides=(1, 2, 2),\n",
        "    padding='same'\n",
        ")(norm3)\n",
        "\n",
        "concat1 = Concatenate()([norm1, dec2])\n",
        "\n",
        "dec3 = ConvLSTM2D(\n",
        "    filters=64,\n",
        "    kernel_size=(5, 5),\n",
        "    padding='same',\n",
        "    return_sequences=True,\n",
        "    activation=\"relu\",)(concat1)\n",
        "\n",
        "\n",
        "out = Conv3D(\n",
        "    filters=1, kernel_size=(3, 3, 3), activation=\"sigmoid\", padding=\"same\")(dec3)\n",
        "\n",
        "\n",
        "model_autoenc_att_res = keras.models.Model(inp, out)\n",
        "model_autoenc_att_res.compile(loss=keras.losses.binary_crossentropy, optimizer=keras.optimizers.Adam(learning_rate=0.001, weight_decay=0.0001), metrics=['mse'])\n",
        "\n",
        "model_autoenc_att_res.summary()"
      ]
    },
    {
      "cell_type": "code",
      "execution_count": 18,
      "metadata": {},
      "outputs": [
        {
          "name": "stderr",
          "output_type": "stream",
          "text": [
            "2023-07-09 12:30:59.949566: I tensorflow/compiler/xla/stream_executor/cuda/cuda_gpu_executor.cc:996] successful NUMA node read from SysFS had negative value (-1), but there must be at least one NUMA node, so returning NUMA node zero. See more at https://github.com/torvalds/linux/blob/v6.0/Documentation/ABI/testing/sysfs-bus-pci#L344-L355\n",
            "2023-07-09 12:31:02.246083: I tensorflow/compiler/xla/stream_executor/cuda/cuda_gpu_executor.cc:996] successful NUMA node read from SysFS had negative value (-1), but there must be at least one NUMA node, so returning NUMA node zero. See more at https://github.com/torvalds/linux/blob/v6.0/Documentation/ABI/testing/sysfs-bus-pci#L344-L355\n",
            "2023-07-09 12:31:02.246403: I tensorflow/compiler/xla/stream_executor/cuda/cuda_gpu_executor.cc:996] successful NUMA node read from SysFS had negative value (-1), but there must be at least one NUMA node, so returning NUMA node zero. See more at https://github.com/torvalds/linux/blob/v6.0/Documentation/ABI/testing/sysfs-bus-pci#L344-L355\n",
            "2023-07-09 12:31:02.247772: I tensorflow/compiler/xla/stream_executor/cuda/cuda_gpu_executor.cc:996] successful NUMA node read from SysFS had negative value (-1), but there must be at least one NUMA node, so returning NUMA node zero. See more at https://github.com/torvalds/linux/blob/v6.0/Documentation/ABI/testing/sysfs-bus-pci#L344-L355\n",
            "2023-07-09 12:31:02.247936: I tensorflow/compiler/xla/stream_executor/cuda/cuda_gpu_executor.cc:996] successful NUMA node read from SysFS had negative value (-1), but there must be at least one NUMA node, so returning NUMA node zero. See more at https://github.com/torvalds/linux/blob/v6.0/Documentation/ABI/testing/sysfs-bus-pci#L344-L355\n",
            "2023-07-09 12:31:02.248121: I tensorflow/compiler/xla/stream_executor/cuda/cuda_gpu_executor.cc:996] successful NUMA node read from SysFS had negative value (-1), but there must be at least one NUMA node, so returning NUMA node zero. See more at https://github.com/torvalds/linux/blob/v6.0/Documentation/ABI/testing/sysfs-bus-pci#L344-L355\n",
            "2023-07-09 12:31:02.385824: I tensorflow/compiler/xla/stream_executor/cuda/cuda_gpu_executor.cc:996] successful NUMA node read from SysFS had negative value (-1), but there must be at least one NUMA node, so returning NUMA node zero. See more at https://github.com/torvalds/linux/blob/v6.0/Documentation/ABI/testing/sysfs-bus-pci#L344-L355\n",
            "2023-07-09 12:31:02.385976: I tensorflow/compiler/xla/stream_executor/cuda/cuda_gpu_executor.cc:996] successful NUMA node read from SysFS had negative value (-1), but there must be at least one NUMA node, so returning NUMA node zero. See more at https://github.com/torvalds/linux/blob/v6.0/Documentation/ABI/testing/sysfs-bus-pci#L344-L355\n",
            "2023-07-09 12:31:02.386089: I tensorflow/compiler/xla/stream_executor/cuda/cuda_gpu_executor.cc:996] successful NUMA node read from SysFS had negative value (-1), but there must be at least one NUMA node, so returning NUMA node zero. See more at https://github.com/torvalds/linux/blob/v6.0/Documentation/ABI/testing/sysfs-bus-pci#L344-L355\n",
            "2023-07-09 12:31:02.386175: I tensorflow/core/common_runtime/gpu/gpu_device.cc:1635] Created device /job:localhost/replica:0/task:0/device:GPU:0 with 5524 MB memory:  -> device: 0, name: NVIDIA GeForce RTX 3070 Laptop GPU, pci bus id: 0000:01:00.0, compute capability: 8.6\n"
          ]
        },
        {
          "name": "stdout",
          "output_type": "stream",
          "text": [
            "Model: \"model\"\n",
            "__________________________________________________________________________________________________\n",
            " Layer (type)                   Output Shape         Param #     Connected to                     \n",
            "==================================================================================================\n",
            " input_1 (InputLayer)           [(None, None, 64, 6  0           []                               \n",
            "                                4, 1)]                                                            \n",
            "                                                                                                  \n",
            " conv_lstm2d (ConvLSTM2D)       (None, None, 64, 64  416256      ['input_1[0][0]']                \n",
            "                                , 64)                                                             \n",
            "                                                                                                  \n",
            " batch_normalization (BatchNorm  (None, None, 64, 64  256        ['conv_lstm2d[0][0]']            \n",
            " alization)                     , 64)                                                             \n",
            "                                                                                                  \n",
            " conv_lstm2d_1 (ConvLSTM2D)     (None, None, 32, 32  819456      ['batch_normalization[0][0]']    \n",
            "                                , 64)                                                             \n",
            "                                                                                                  \n",
            " batch_normalization_1 (BatchNo  (None, None, 32, 32  256        ['conv_lstm2d_1[0][0]']          \n",
            " rmalization)                   , 64)                                                             \n",
            "                                                                                                  \n",
            " conv2d (Conv2D)                (None, None, 32, 32  4160        ['batch_normalization_1[0][0]']  \n",
            "                                , 64)                                                             \n",
            "                                                                                                  \n",
            " conv2d_2 (Conv2D)              (None, None, 32, 32  4160        ['batch_normalization_1[0][0]']  \n",
            "                                , 64)                                                             \n",
            "                                                                                                  \n",
            " max_pooling3d (MaxPooling3D)   (None, None, 32, 32  0           ['batch_normalization_1[0][0]']  \n",
            "                                , 64)                                                             \n",
            "                                                                                                  \n",
            " conv2d_1 (Conv2D)              (None, None, 32, 32  102464      ['conv2d[0][0]']                 \n",
            "                                , 64)                                                             \n",
            "                                                                                                  \n",
            " conv2d_3 (Conv2D)              (None, None, 32, 32  36928       ['conv2d_2[0][0]']               \n",
            "                                , 64)                                                             \n",
            "                                                                                                  \n",
            " conv2d_4 (Conv2D)              (None, None, 32, 32  4160        ['max_pooling3d[0][0]']          \n",
            "                                , 64)                                                             \n",
            "                                                                                                  \n",
            " conv2d_5 (Conv2D)              (None, None, 32, 32  4160        ['batch_normalization_1[0][0]']  \n",
            "                                , 64)                                                             \n",
            "                                                                                                  \n",
            " concatenate (Concatenate)      (None, None, 32, 32  0           ['conv2d_1[0][0]',               \n",
            "                                , 256)                            'conv2d_3[0][0]',               \n",
            "                                                                  'conv2d_4[0][0]',               \n",
            "                                                                  'conv2d_5[0][0]']               \n",
            "                                                                                                  \n",
            " conv_lstm2d_2 (ConvLSTM2D)     (None, None, 32, 32  2048256     ['concatenate[0][0]']            \n",
            "                                , 64)                                                             \n",
            "                                                                                                  \n",
            " batch_normalization_2 (BatchNo  (None, None, 32, 32  256        ['conv_lstm2d_2[0][0]']          \n",
            " rmalization)                   , 64)                                                             \n",
            "                                                                                                  \n",
            " conv3d_transpose (Conv3DTransp  (None, None, 64, 64  307264     ['batch_normalization_2[0][0]']  \n",
            " ose)                           , 64)                                                             \n",
            "                                                                                                  \n",
            " conv3d (Conv3D)                (None, None, 64, 64  1729        ['conv3d_transpose[0][0]']       \n",
            "                                , 1)                                                              \n",
            "                                                                                                  \n",
            "==================================================================================================\n",
            "Total params: 3,749,761\n",
            "Trainable params: 3,749,377\n",
            "Non-trainable params: 384\n",
            "__________________________________________________________________________________________________\n"
          ]
        }
      ],
      "source": [
        "# Encoder-Inception-Decoder Convolutional LSTM\n",
        "inp = Input(shape=(None, 64, 64, 1))\n",
        "\n",
        "# att1 = Attention()([inp, inp])\n",
        "\n",
        "enc1 = ConvLSTM2D(\n",
        "    filters=64,\n",
        "    kernel_size=(5, 5),\n",
        "    padding='same',\n",
        "    return_sequences=True,\n",
        "    activation=\"relu\",)(inp)\n",
        "norm1 = BatchNormalization()(enc1)\n",
        "\n",
        "enc2 = ConvLSTM2D(\n",
        "    filters=64,\n",
        "    kernel_size=(5, 5),\n",
        "    strides=(2,2),\n",
        "    padding='same',\n",
        "    return_sequences=True,\n",
        "    activation=\"relu\",)(norm1)\n",
        "norm2 = BatchNormalization()(enc2)\n",
        "\n",
        "inc1 = buildInceptionModule(norm2)\n",
        "\n",
        "dec1 = ConvLSTM2D(\n",
        "    filters=64,\n",
        "    kernel_size=(5, 5),\n",
        "    padding='same',\n",
        "    return_sequences=True,\n",
        "    activation=\"relu\",)(inc1)\n",
        "norm3 = BatchNormalization()(dec1)\n",
        "\n",
        "dec2 = Conv3DTranspose(\n",
        "    filters=64,\n",
        "    kernel_size=(3, 5, 5),\n",
        "    strides=(1, 2, 2),\n",
        "    padding='same'\n",
        ")(norm3)\n",
        "\n",
        "\n",
        "out = Conv3D(\n",
        "    filters=1, kernel_size=(3, 3, 3), activation=\"sigmoid\", padding=\"same\")(dec2)\n",
        "\n",
        "\n",
        "model_autoenc_inc = keras.models.Model(inp, out)\n",
        "model_autoenc_inc.compile(loss=keras.losses.binary_crossentropy, optimizer=keras.optimizers.Adam(learning_rate=0.005, weight_decay=0.0001), metrics=['mse'])\n",
        "\n",
        "model_autoenc_inc.summary()"
      ]
    },
    {
      "attachments": {},
      "cell_type": "markdown",
      "metadata": {},
      "source": [
        "## Training 300 steps / 20 epochs"
      ]
    },
    {
      "cell_type": "code",
      "execution_count": 32,
      "metadata": {},
      "outputs": [],
      "source": [
        "LR_SCHEDULE = [\n",
        "    (10, 0.001),\n",
        "]\n",
        "\n",
        "early_stopping = keras.callbacks.EarlyStopping(monitor=\"val_loss\", patience=5, restore_best_weights=True)\n",
        "# reduce_lr = keras.callbacks.ReduceLROnPlateau(monitor=\"val_mse\", patience=3, min_lr=0.001, factor=0.2)\n",
        "reduce_lr = CustomLearningRateScheduler(LR_SCHEDULE)"
      ]
    },
    {
      "cell_type": "code",
      "execution_count": 33,
      "metadata": {},
      "outputs": [
        {
          "name": "stdout",
          "output_type": "stream",
          "text": [
            "Epoch 1/20\n"
          ]
        },
        {
          "name": "stderr",
          "output_type": "stream",
          "text": [
            "2023-07-09 17:11:30.184361: I tensorflow/core/common_runtime/executor.cc:1197] [/device:CPU:0] (DEBUG INFO) Executor start aborting (this does not indicate an error and you can ignore this message): INVALID_ARGUMENT: You must feed a value for placeholder tensor 'Placeholder/_0' with dtype int32\n",
            "\t [[{{node Placeholder/_0}}]]\n"
          ]
        },
        {
          "name": "stdout",
          "output_type": "stream",
          "text": [
            "300/300 [==============================] - ETA: 0s - loss: 0.1252 - mse: 0.0272"
          ]
        },
        {
          "name": "stderr",
          "output_type": "stream",
          "text": [
            "2023-07-09 17:13:17.128015: I tensorflow/core/common_runtime/executor.cc:1197] [/device:CPU:0] (DEBUG INFO) Executor start aborting (this does not indicate an error and you can ignore this message): INVALID_ARGUMENT: You must feed a value for placeholder tensor 'Placeholder/_0' with dtype int32\n",
            "\t [[{{node Placeholder/_0}}]]\n"
          ]
        },
        {
          "name": "stdout",
          "output_type": "stream",
          "text": [
            "300/300 [==============================] - 114s 366ms/step - loss: 0.1252 - mse: 0.0272 - val_loss: 0.1734 - val_mse: 0.0357 - lr: 0.0050\n",
            "Epoch 2/20\n",
            "300/300 [==============================] - 111s 371ms/step - loss: 0.0866 - mse: 0.0204 - val_loss: 0.1001 - val_mse: 0.0237 - lr: 0.0050\n",
            "Epoch 3/20\n",
            "300/300 [==============================] - 112s 373ms/step - loss: 0.0829 - mse: 0.0193 - val_loss: 0.0827 - val_mse: 0.0192 - lr: 0.0050\n",
            "Epoch 4/20\n",
            "300/300 [==============================] - 112s 375ms/step - loss: 0.0810 - mse: 0.0187 - val_loss: 0.0792 - val_mse: 0.0181 - lr: 0.0050\n",
            "Epoch 5/20\n",
            "300/300 [==============================] - 113s 376ms/step - loss: 0.0792 - mse: 0.0181 - val_loss: 0.0790 - val_mse: 0.0180 - lr: 0.0050\n",
            "Epoch 6/20\n",
            "300/300 [==============================] - 113s 376ms/step - loss: 0.0786 - mse: 0.0179 - val_loss: 0.0771 - val_mse: 0.0174 - lr: 0.0050\n",
            "Epoch 7/20\n",
            "300/300 [==============================] - 113s 378ms/step - loss: 0.0785 - mse: 0.0178 - val_loss: 0.0779 - val_mse: 0.0175 - lr: 0.0050\n",
            "Epoch 8/20\n",
            "300/300 [==============================] - 107s 358ms/step - loss: 0.0769 - mse: 0.0173 - val_loss: 0.0784 - val_mse: 0.0177 - lr: 0.0050\n",
            "Epoch 9/20\n",
            "300/300 [==============================] - 94s 312ms/step - loss: 0.0767 - mse: 0.0172 - val_loss: 0.0797 - val_mse: 0.0179 - lr: 0.0050\n",
            "Epoch 10/20\n",
            "300/300 [==============================] - 94s 312ms/step - loss: 0.0767 - mse: 0.0172 - val_loss: 0.0779 - val_mse: 0.0175 - lr: 0.0050\n",
            "Epoch 11/20\n",
            "300/300 [==============================] - 94s 312ms/step - loss: 0.0740 - mse: 0.0164 - val_loss: 0.0745 - val_mse: 0.0165 - lr: 1.0000e-03\n",
            "Epoch 12/20\n",
            "300/300 [==============================] - 94s 312ms/step - loss: 0.0739 - mse: 0.0163 - val_loss: 0.0736 - val_mse: 0.0161 - lr: 0.0010\n",
            "Epoch 13/20\n",
            "300/300 [==============================] - 94s 312ms/step - loss: 0.0738 - mse: 0.0163 - val_loss: 0.0729 - val_mse: 0.0160 - lr: 0.0010\n",
            "Epoch 14/20\n",
            "300/300 [==============================] - 94s 312ms/step - loss: 0.0737 - mse: 0.0162 - val_loss: 0.0728 - val_mse: 0.0160 - lr: 0.0010\n",
            "Epoch 15/20\n",
            "300/300 [==============================] - 94s 312ms/step - loss: 0.0736 - mse: 0.0162 - val_loss: 0.0729 - val_mse: 0.0160 - lr: 0.0010\n",
            "Epoch 16/20\n",
            "300/300 [==============================] - 94s 312ms/step - loss: 0.0730 - mse: 0.0160 - val_loss: 0.0740 - val_mse: 0.0163 - lr: 0.0010\n",
            "Epoch 17/20\n",
            "300/300 [==============================] - 94s 312ms/step - loss: 0.0732 - mse: 0.0161 - val_loss: 0.0728 - val_mse: 0.0159 - lr: 0.0010\n",
            "Epoch 18/20\n",
            "300/300 [==============================] - 94s 312ms/step - loss: 0.0730 - mse: 0.0160 - val_loss: 0.0731 - val_mse: 0.0160 - lr: 0.0010\n",
            "Epoch 19/20\n",
            "300/300 [==============================] - 94s 312ms/step - loss: 0.0730 - mse: 0.0160 - val_loss: 0.0722 - val_mse: 0.0157 - lr: 0.0010\n",
            "Epoch 20/20\n",
            "300/300 [==============================] - 94s 312ms/step - loss: 0.0721 - mse: 0.0158 - val_loss: 0.0716 - val_mse: 0.0157 - lr: 0.0010\n"
          ]
        },
        {
          "data": {
            "text/plain": [
              "<keras.callbacks.History at 0x7ff5481ff160>"
            ]
          },
          "execution_count": 33,
          "metadata": {},
          "output_type": "execute_result"
        }
      ],
      "source": [
        "train_model(model_3lstm_conv, train_gen, val_gen, steps_per_epoch=300, val_steps=60, callbacks=[early_stopping, reduce_lr])"
      ]
    },
    {
      "cell_type": "code",
      "execution_count": 49,
      "metadata": {},
      "outputs": [
        {
          "name": "stdout",
          "output_type": "stream",
          "text": [
            "Epoch 1/20\n"
          ]
        },
        {
          "name": "stderr",
          "output_type": "stream",
          "text": [
            "2023-07-08 11:35:10.645413: I tensorflow/core/common_runtime/executor.cc:1197] [/device:CPU:0] (DEBUG INFO) Executor start aborting (this does not indicate an error and you can ignore this message): INVALID_ARGUMENT: You must feed a value for placeholder tensor 'Placeholder/_0' with dtype int32\n",
            "\t [[{{node Placeholder/_0}}]]\n"
          ]
        },
        {
          "name": "stdout",
          "output_type": "stream",
          "text": [
            "300/300 [==============================] - ETA: 0s - loss: 0.1733 - mse: 0.0382"
          ]
        },
        {
          "name": "stderr",
          "output_type": "stream",
          "text": [
            "2023-07-08 11:36:21.688174: I tensorflow/core/common_runtime/executor.cc:1197] [/device:CPU:0] (DEBUG INFO) Executor start aborting (this does not indicate an error and you can ignore this message): INVALID_ARGUMENT: You must feed a value for placeholder tensor 'Placeholder/_0' with dtype int32\n",
            "\t [[{{node Placeholder/_0}}]]\n"
          ]
        },
        {
          "name": "stdout",
          "output_type": "stream",
          "text": [
            "300/300 [==============================] - 76s 222ms/step - loss: 0.1733 - mse: 0.0382 - val_loss: 0.2551 - val_mse: 0.0411 - lr: 0.0050\n",
            "Epoch 2/20\n",
            "300/300 [==============================] - 66s 220ms/step - loss: 0.1220 - mse: 0.0297 - val_loss: 0.1557 - val_mse: 0.0349 - lr: 0.0050\n",
            "Epoch 3/20\n",
            "300/300 [==============================] - 66s 221ms/step - loss: 0.1084 - mse: 0.0266 - val_loss: 0.1067 - val_mse: 0.0261 - lr: 0.0050\n",
            "Epoch 4/20\n",
            "300/300 [==============================] - 67s 222ms/step - loss: 0.1045 - mse: 0.0256 - val_loss: 0.1044 - val_mse: 0.0252 - lr: 0.0050\n",
            "Epoch 5/20\n",
            "300/300 [==============================] - 68s 227ms/step - loss: 0.1012 - mse: 0.0246 - val_loss: 0.1009 - val_mse: 0.0244 - lr: 0.0050\n",
            "Epoch 6/20\n",
            "300/300 [==============================] - 67s 224ms/step - loss: 0.0994 - mse: 0.0241 - val_loss: 0.1004 - val_mse: 0.0244 - lr: 0.0050\n",
            "Epoch 7/20\n",
            "300/300 [==============================] - 67s 222ms/step - loss: 0.0982 - mse: 0.0237 - val_loss: 0.0963 - val_mse: 0.0232 - lr: 0.0050\n",
            "Epoch 8/20\n",
            "300/300 [==============================] - 67s 223ms/step - loss: 0.0881 - mse: 0.0209 - val_loss: 0.1146 - val_mse: 0.0260 - lr: 0.0050\n",
            "Epoch 9/20\n",
            "300/300 [==============================] - 67s 223ms/step - loss: 0.0815 - mse: 0.0189 - val_loss: 0.0792 - val_mse: 0.0182 - lr: 0.0050\n",
            "Epoch 10/20\n",
            "300/300 [==============================] - 67s 223ms/step - loss: 0.0776 - mse: 0.0177 - val_loss: 0.0793 - val_mse: 0.0178 - lr: 0.0050\n",
            "Epoch 11/20\n",
            "300/300 [==============================] - 67s 223ms/step - loss: 0.0736 - mse: 0.0165 - val_loss: 0.0764 - val_mse: 0.0160 - lr: 1.0000e-03\n",
            "Epoch 12/20\n",
            "300/300 [==============================] - 67s 223ms/step - loss: 0.0724 - mse: 0.0161 - val_loss: 0.0719 - val_mse: 0.0158 - lr: 0.0010\n",
            "Epoch 13/20\n",
            "300/300 [==============================] - 67s 224ms/step - loss: 0.0715 - mse: 0.0158 - val_loss: 0.0731 - val_mse: 0.0158 - lr: 0.0010\n",
            "Epoch 14/20\n",
            "300/300 [==============================] - 67s 223ms/step - loss: 0.0712 - mse: 0.0157 - val_loss: 0.0708 - val_mse: 0.0155 - lr: 0.0010\n",
            "Epoch 15/20\n",
            "300/300 [==============================] - 67s 224ms/step - loss: 0.0700 - mse: 0.0154 - val_loss: 0.0706 - val_mse: 0.0153 - lr: 0.0010\n",
            "Epoch 16/20\n",
            "300/300 [==============================] - 67s 223ms/step - loss: 0.0701 - mse: 0.0154 - val_loss: 0.0692 - val_mse: 0.0150 - lr: 0.0010\n",
            "Epoch 17/20\n",
            "300/300 [==============================] - 67s 224ms/step - loss: 0.0688 - mse: 0.0150 - val_loss: 0.0677 - val_mse: 0.0148 - lr: 0.0010\n",
            "Epoch 18/20\n",
            "300/300 [==============================] - 67s 224ms/step - loss: 0.0682 - mse: 0.0148 - val_loss: 0.0675 - val_mse: 0.0146 - lr: 0.0010\n",
            "Epoch 19/20\n",
            "300/300 [==============================] - 67s 222ms/step - loss: 0.0676 - mse: 0.0146 - val_loss: 0.0680 - val_mse: 0.0148 - lr: 0.0010\n",
            "Epoch 20/20\n",
            "300/300 [==============================] - 79s 265ms/step - loss: 0.0668 - mse: 0.0144 - val_loss: 0.0674 - val_mse: 0.0146 - lr: 0.0010\n"
          ]
        },
        {
          "data": {
            "text/plain": [
              "<keras.callbacks.History at 0x7fcbd0db8f10>"
            ]
          },
          "execution_count": 49,
          "metadata": {},
          "output_type": "execute_result"
        }
      ],
      "source": [
        "train_model(model_autoenc_att, train_gen, val_gen, steps_per_epoch=300, val_steps=60, callbacks=[early_stopping, reduce_lr])"
      ]
    },
    {
      "cell_type": "code",
      "execution_count": 25,
      "metadata": {},
      "outputs": [
        {
          "name": "stdout",
          "output_type": "stream",
          "text": [
            "Epoch 1/20\n"
          ]
        },
        {
          "name": "stderr",
          "output_type": "stream",
          "text": [
            "2023-07-08 12:19:32.086166: I tensorflow/core/common_runtime/executor.cc:1197] [/device:CPU:0] (DEBUG INFO) Executor start aborting (this does not indicate an error and you can ignore this message): INVALID_ARGUMENT: You must feed a value for placeholder tensor 'Placeholder/_0' with dtype int32\n",
            "\t [[{{node Placeholder/_0}}]]\n",
            "2023-07-08 12:19:37.466595: I tensorflow/compiler/xla/stream_executor/cuda/cuda_dnn.cc:424] Loaded cuDNN version 8600\n",
            "2023-07-08 12:19:41.765127: I tensorflow/compiler/xla/service/service.cc:169] XLA service 0x7f95cfc76220 initialized for platform CUDA (this does not guarantee that XLA will be used). Devices:\n",
            "2023-07-08 12:19:41.765153: I tensorflow/compiler/xla/service/service.cc:177]   StreamExecutor device (0): NVIDIA GeForce RTX 3070 Laptop GPU, Compute Capability 8.6\n",
            "2023-07-08 12:19:41.876937: I tensorflow/compiler/mlir/tensorflow/utils/dump_mlir_util.cc:269] disabling MLIR crash reproducer, set env var `MLIR_CRASH_REPRODUCER_DIRECTORY` to enable.\n",
            "2023-07-08 12:19:41.980935: I ./tensorflow/compiler/jit/device_compiler.h:180] Compiled cluster using XLA!  This line is logged at most once for the lifetime of the process.\n"
          ]
        },
        {
          "name": "stdout",
          "output_type": "stream",
          "text": [
            "300/300 [==============================] - ETA: 0s - loss: 0.1816 - mse: 0.0376"
          ]
        },
        {
          "name": "stderr",
          "output_type": "stream",
          "text": [
            "2023-07-08 12:20:44.229592: I tensorflow/core/common_runtime/executor.cc:1197] [/device:CPU:0] (DEBUG INFO) Executor start aborting (this does not indicate an error and you can ignore this message): INVALID_ARGUMENT: You must feed a value for placeholder tensor 'Placeholder/_0' with dtype int32\n",
            "\t [[{{node Placeholder/_0}}]]\n"
          ]
        },
        {
          "name": "stdout",
          "output_type": "stream",
          "text": [
            "300/300 [==============================] - 77s 216ms/step - loss: 0.1816 - mse: 0.0376 - val_loss: 0.1581 - val_mse: 0.0351 - lr: 0.0050\n",
            "Epoch 2/20\n",
            "300/300 [==============================] - 65s 216ms/step - loss: 0.1302 - mse: 0.0312 - val_loss: 0.1606 - val_mse: 0.0366 - lr: 0.0050\n",
            "Epoch 3/20\n",
            "300/300 [==============================] - 65s 218ms/step - loss: 0.1195 - mse: 0.0290 - val_loss: 0.5423 - val_mse: 0.1888 - lr: 0.0050\n",
            "Epoch 4/20\n",
            "300/300 [==============================] - 66s 219ms/step - loss: 0.1161 - mse: 0.0282 - val_loss: 0.1300 - val_mse: 0.0319 - lr: 0.0050\n",
            "Epoch 5/20\n",
            "300/300 [==============================] - 66s 220ms/step - loss: 0.1167 - mse: 0.0283 - val_loss: 0.4243 - val_mse: 0.0403 - lr: 0.0050\n",
            "Epoch 6/20\n",
            "300/300 [==============================] - 66s 219ms/step - loss: 0.1123 - mse: 0.0274 - val_loss: 0.1218 - val_mse: 0.0280 - lr: 0.0050\n",
            "Epoch 7/20\n",
            "300/300 [==============================] - 66s 221ms/step - loss: 0.1090 - mse: 0.0267 - val_loss: 0.1165 - val_mse: 0.0275 - lr: 0.0050\n",
            "Epoch 8/20\n",
            "300/300 [==============================] - 65s 218ms/step - loss: 0.1070 - mse: 0.0261 - val_loss: 0.1430 - val_mse: 0.0348 - lr: 0.0050\n",
            "Epoch 9/20\n",
            "300/300 [==============================] - 65s 218ms/step - loss: 0.1070 - mse: 0.0261 - val_loss: 0.3090 - val_mse: 0.0313 - lr: 0.0050\n",
            "Epoch 10/20\n",
            "300/300 [==============================] - 66s 221ms/step - loss: 0.1046 - mse: 0.0254 - val_loss: 0.3405 - val_mse: 0.0468 - lr: 0.0050\n",
            "Epoch 11/20\n",
            "300/300 [==============================] - 66s 221ms/step - loss: 0.1025 - mse: 0.0250 - val_loss: 0.1029 - val_mse: 0.0249 - lr: 1.0000e-03\n",
            "Epoch 12/20\n",
            "300/300 [==============================] - 66s 220ms/step - loss: 0.1010 - mse: 0.0246 - val_loss: 0.1000 - val_mse: 0.0242 - lr: 0.0010\n",
            "Epoch 13/20\n",
            "300/300 [==============================] - 68s 226ms/step - loss: 0.1001 - mse: 0.0243 - val_loss: 0.1013 - val_mse: 0.0244 - lr: 0.0010\n",
            "Epoch 14/20\n",
            "300/300 [==============================] - 68s 225ms/step - loss: 0.1000 - mse: 0.0243 - val_loss: 0.1014 - val_mse: 0.0246 - lr: 0.0010\n",
            "Epoch 15/20\n",
            "300/300 [==============================] - 67s 223ms/step - loss: 0.0989 - mse: 0.0239 - val_loss: 0.1002 - val_mse: 0.0242 - lr: 0.0010\n",
            "Epoch 16/20\n",
            "300/300 [==============================] - 68s 226ms/step - loss: 0.0989 - mse: 0.0239 - val_loss: 0.1013 - val_mse: 0.0244 - lr: 0.0010\n",
            "Epoch 17/20\n",
            "300/300 [==============================] - 68s 225ms/step - loss: 0.0993 - mse: 0.0240 - val_loss: 0.1027 - val_mse: 0.0243 - lr: 0.0010\n"
          ]
        },
        {
          "data": {
            "text/plain": [
              "<keras.callbacks.History at 0x7f9a8c070670>"
            ]
          },
          "execution_count": 25,
          "metadata": {},
          "output_type": "execute_result"
        }
      ],
      "source": [
        "train_model(model_autoenc_att2, train_gen, val_gen, steps_per_epoch=300, val_steps=60, callbacks=[early_stopping, reduce_lr])"
      ]
    },
    {
      "cell_type": "code",
      "execution_count": 101,
      "metadata": {},
      "outputs": [
        {
          "name": "stdout",
          "output_type": "stream",
          "text": [
            "Epoch 1/20\n"
          ]
        },
        {
          "name": "stderr",
          "output_type": "stream",
          "text": [
            "2023-07-07 18:39:09.618152: I tensorflow/core/common_runtime/executor.cc:1197] [/device:CPU:0] (DEBUG INFO) Executor start aborting (this does not indicate an error and you can ignore this message): INVALID_ARGUMENT: You must feed a value for placeholder tensor 'Placeholder/_0' with dtype int32\n",
            "\t [[{{node Placeholder/_0}}]]\n"
          ]
        },
        {
          "name": "stdout",
          "output_type": "stream",
          "text": [
            "300/300 [==============================] - ETA: 0s - loss: 0.1029 - mse: 0.0238"
          ]
        },
        {
          "name": "stderr",
          "output_type": "stream",
          "text": [
            "2023-07-07 18:40:16.715124: I tensorflow/core/common_runtime/executor.cc:1197] [/device:CPU:0] (DEBUG INFO) Executor start aborting (this does not indicate an error and you can ignore this message): INVALID_ARGUMENT: You must feed a value for placeholder tensor 'Placeholder/_0' with dtype int32\n",
            "\t [[{{node Placeholder/_0}}]]\n"
          ]
        },
        {
          "name": "stdout",
          "output_type": "stream",
          "text": [
            "300/300 [==============================] - 72s 217ms/step - loss: 0.1029 - mse: 0.0238 - val_loss: 0.4090 - val_mse: 0.1120 - lr: 0.0050\n",
            "Epoch 2/20\n",
            "300/300 [==============================] - 65s 218ms/step - loss: 0.0731 - mse: 0.0167 - val_loss: 0.0782 - val_mse: 0.0181 - lr: 0.0050\n",
            "Epoch 3/20\n",
            "300/300 [==============================] - 66s 220ms/step - loss: 0.0696 - mse: 0.0155 - val_loss: 0.0695 - val_mse: 0.0152 - lr: 0.0050\n",
            "Epoch 4/20\n",
            "300/300 [==============================] - 66s 220ms/step - loss: 0.0670 - mse: 0.0146 - val_loss: 0.0646 - val_mse: 0.0138 - lr: 0.0050\n",
            "Epoch 5/20\n",
            "300/300 [==============================] - 66s 221ms/step - loss: 0.0657 - mse: 0.0141 - val_loss: 0.0710 - val_mse: 0.0154 - lr: 0.0050\n",
            "Epoch 6/20\n",
            "300/300 [==============================] - 66s 221ms/step - loss: 0.0649 - mse: 0.0138 - val_loss: 0.0647 - val_mse: 0.0138 - lr: 0.0050\n",
            "Epoch 7/20\n",
            "300/300 [==============================] - 66s 221ms/step - loss: 0.0632 - mse: 0.0133 - val_loss: 0.0632 - val_mse: 0.0133 - lr: 0.0050\n",
            "Epoch 8/20\n",
            "300/300 [==============================] - 66s 220ms/step - loss: 0.0630 - mse: 0.0132 - val_loss: 0.0618 - val_mse: 0.0129 - lr: 0.0050\n",
            "Epoch 9/20\n",
            "300/300 [==============================] - 66s 219ms/step - loss: 0.0626 - mse: 0.0130 - val_loss: 0.0622 - val_mse: 0.0129 - lr: 0.0050\n",
            "Epoch 10/20\n",
            "300/300 [==============================] - 66s 219ms/step - loss: 0.0611 - mse: 0.0126 - val_loss: 0.0613 - val_mse: 0.0126 - lr: 0.0050\n",
            "Epoch 11/20\n",
            "300/300 [==============================] - 66s 219ms/step - loss: 0.0611 - mse: 0.0126 - val_loss: 0.0617 - val_mse: 0.0127 - lr: 0.0050\n",
            "Epoch 12/20\n",
            "300/300 [==============================] - 66s 220ms/step - loss: 0.0589 - mse: 0.0118 - val_loss: 0.0581 - val_mse: 0.0115 - lr: 1.0000e-03\n",
            "Epoch 13/20\n",
            "300/300 [==============================] - 66s 220ms/step - loss: 0.0576 - mse: 0.0114 - val_loss: 0.0591 - val_mse: 0.0119 - lr: 0.0010\n",
            "Epoch 14/20\n",
            "300/300 [==============================] - 66s 220ms/step - loss: 0.0578 - mse: 0.0114 - val_loss: 0.0581 - val_mse: 0.0115 - lr: 0.0010\n",
            "Epoch 15/20\n",
            "300/300 [==============================] - 66s 219ms/step - loss: 0.0573 - mse: 0.0113 - val_loss: 0.0579 - val_mse: 0.0116 - lr: 0.0010\n",
            "Epoch 16/20\n",
            "300/300 [==============================] - 60s 201ms/step - loss: 0.0573 - mse: 0.0112 - val_loss: 0.0567 - val_mse: 0.0110 - lr: 0.0010\n",
            "Epoch 17/20\n",
            "300/300 [==============================] - 58s 192ms/step - loss: 0.0570 - mse: 0.0111 - val_loss: 0.0568 - val_mse: 0.0111 - lr: 0.0010\n",
            "Epoch 18/20\n",
            "300/300 [==============================] - 67s 222ms/step - loss: 0.0568 - mse: 0.0111 - val_loss: 0.0573 - val_mse: 0.0114 - lr: 0.0010\n",
            "Epoch 19/20\n",
            "300/300 [==============================] - 66s 221ms/step - loss: 0.0571 - mse: 0.0111 - val_loss: 0.0565 - val_mse: 0.0111 - lr: 0.0010\n",
            "Epoch 20/20\n",
            "300/300 [==============================] - 66s 221ms/step - loss: 0.0565 - mse: 0.0110 - val_loss: 0.0577 - val_mse: 0.0113 - lr: 0.0010\n"
          ]
        },
        {
          "data": {
            "text/plain": [
              "<keras.callbacks.History at 0x7f42c980f640>"
            ]
          },
          "execution_count": 101,
          "metadata": {},
          "output_type": "execute_result"
        }
      ],
      "source": [
        "train_model(model_autoenc, train_gen, val_gen, steps_per_epoch=300, val_steps=60, callbacks=[early_stopping, reduce_lr])"
      ]
    },
    {
      "cell_type": "code",
      "execution_count": 38,
      "metadata": {},
      "outputs": [
        {
          "name": "stdout",
          "output_type": "stream",
          "text": [
            "Epoch 1/20\n"
          ]
        },
        {
          "name": "stderr",
          "output_type": "stream",
          "text": [
            "2023-07-08 15:06:15.251301: I tensorflow/core/common_runtime/executor.cc:1197] [/device:CPU:0] (DEBUG INFO) Executor start aborting (this does not indicate an error and you can ignore this message): INVALID_ARGUMENT: You must feed a value for placeholder tensor 'Placeholder/_0' with dtype int32\n",
            "\t [[{{node Placeholder/_0}}]]\n"
          ]
        },
        {
          "name": "stdout",
          "output_type": "stream",
          "text": [
            "300/300 [==============================] - ETA: 0s - loss: 0.0985 - mse: 0.0239"
          ]
        },
        {
          "name": "stderr",
          "output_type": "stream",
          "text": [
            "2023-07-08 15:08:16.151193: I tensorflow/core/common_runtime/executor.cc:1197] [/device:CPU:0] (DEBUG INFO) Executor start aborting (this does not indicate an error and you can ignore this message): INVALID_ARGUMENT: You must feed a value for placeholder tensor 'Placeholder/_0' with dtype int32\n",
            "\t [[{{node Placeholder/_0}}]]\n"
          ]
        },
        {
          "name": "stdout",
          "output_type": "stream",
          "text": [
            "300/300 [==============================] - 130s 409ms/step - loss: 0.0985 - mse: 0.0239 - val_loss: 0.6400 - val_mse: 0.0420\n",
            "Epoch 2/20\n",
            "300/300 [==============================] - 124s 413ms/step - loss: 0.0721 - mse: 0.0163 - val_loss: 0.1159 - val_mse: 0.0290\n",
            "Epoch 3/20\n",
            "300/300 [==============================] - 124s 415ms/step - loss: 0.0676 - mse: 0.0146 - val_loss: 0.0671 - val_mse: 0.0144\n",
            "Epoch 4/20\n",
            "300/300 [==============================] - 125s 417ms/step - loss: 0.0647 - mse: 0.0137 - val_loss: 0.0646 - val_mse: 0.0137\n",
            "Epoch 5/20\n",
            "300/300 [==============================] - 125s 418ms/step - loss: 0.0625 - mse: 0.0130 - val_loss: 0.0666 - val_mse: 0.0139\n",
            "Epoch 6/20\n",
            "300/300 [==============================] - 121s 405ms/step - loss: 0.0608 - mse: 0.0124 - val_loss: 0.0661 - val_mse: 0.0133\n",
            "Epoch 7/20\n",
            "300/300 [==============================] - 104s 346ms/step - loss: 0.0580 - mse: 0.0115 - val_loss: 0.0595 - val_mse: 0.0119\n",
            "Epoch 8/20\n",
            "300/300 [==============================] - 104s 346ms/step - loss: 0.0577 - mse: 0.0114 - val_loss: 0.0599 - val_mse: 0.0121\n",
            "Epoch 9/20\n",
            "300/300 [==============================] - 104s 345ms/step - loss: 0.0568 - mse: 0.0112 - val_loss: 0.0609 - val_mse: 0.0120\n",
            "Epoch 10/20\n",
            "300/300 [==============================] - 103s 345ms/step - loss: 0.0560 - mse: 0.0109 - val_loss: 0.0568 - val_mse: 0.0112\n",
            "Epoch 11/20\n",
            "300/300 [==============================] - 103s 345ms/step - loss: 0.0556 - mse: 0.0108 - val_loss: 0.0558 - val_mse: 0.0107\n",
            "Epoch 12/20\n",
            "300/300 [==============================] - 103s 344ms/step - loss: 0.0554 - mse: 0.0107 - val_loss: 0.0548 - val_mse: 0.0105\n",
            "Epoch 13/20\n",
            "300/300 [==============================] - 103s 345ms/step - loss: 0.0544 - mse: 0.0104 - val_loss: 0.0529 - val_mse: 0.0100\n",
            "Epoch 14/20\n",
            "300/300 [==============================] - 103s 344ms/step - loss: 0.0539 - mse: 0.0102 - val_loss: 0.0543 - val_mse: 0.0104\n",
            "Epoch 15/20\n",
            "300/300 [==============================] - 103s 344ms/step - loss: 0.0539 - mse: 0.0102 - val_loss: 0.0537 - val_mse: 0.0102\n",
            "Epoch 16/20\n",
            "300/300 [==============================] - 103s 344ms/step - loss: 0.0530 - mse: 0.0099 - val_loss: 0.0525 - val_mse: 0.0099\n",
            "Epoch 17/20\n",
            "300/300 [==============================] - 103s 344ms/step - loss: 0.0530 - mse: 0.0099 - val_loss: 0.0539 - val_mse: 0.0102\n",
            "Epoch 18/20\n",
            "300/300 [==============================] - 103s 344ms/step - loss: 0.0521 - mse: 0.0097 - val_loss: 0.0528 - val_mse: 0.0098\n",
            "Epoch 19/20\n",
            "300/300 [==============================] - 103s 344ms/step - loss: 0.0527 - mse: 0.0098 - val_loss: 0.0521 - val_mse: 0.0096\n",
            "Epoch 20/20\n",
            "300/300 [==============================] - 103s 344ms/step - loss: 0.0517 - mse: 0.0095 - val_loss: 0.0532 - val_mse: 0.0100\n"
          ]
        },
        {
          "data": {
            "text/plain": [
              "<keras.callbacks.History at 0x7f9878468ac0>"
            ]
          },
          "execution_count": 38,
          "metadata": {},
          "output_type": "execute_result"
        }
      ],
      "source": [
        "train_model(model_autoenc_att_res, train_gen, val_gen, steps_per_epoch=300, val_steps=60, callbacks=[early_stopping])"
      ]
    },
    {
      "cell_type": "code",
      "execution_count": 31,
      "metadata": {},
      "outputs": [
        {
          "name": "stdout",
          "output_type": "stream",
          "text": [
            "Epoch 1/20\n"
          ]
        },
        {
          "name": "stderr",
          "output_type": "stream",
          "text": [
            "2023-07-08 13:02:44.053044: I tensorflow/core/common_runtime/executor.cc:1197] [/device:CPU:0] (DEBUG INFO) Executor start aborting (this does not indicate an error and you can ignore this message): INVALID_ARGUMENT: You must feed a value for placeholder tensor 'Placeholder/_0' with dtype int32\n",
            "\t [[{{node Placeholder/_0}}]]\n"
          ]
        },
        {
          "name": "stdout",
          "output_type": "stream",
          "text": [
            "300/300 [==============================] - ETA: 0s - loss: 0.1328 - mse: 0.0313"
          ]
        },
        {
          "name": "stderr",
          "output_type": "stream",
          "text": [
            "2023-07-08 13:04:07.116468: I tensorflow/core/common_runtime/executor.cc:1197] [/device:CPU:0] (DEBUG INFO) Executor start aborting (this does not indicate an error and you can ignore this message): INVALID_ARGUMENT: You must feed a value for placeholder tensor 'Placeholder/_0' with dtype int32\n",
            "\t [[{{node Placeholder/_0}}]]\n"
          ]
        },
        {
          "name": "stdout",
          "output_type": "stream",
          "text": [
            "300/300 [==============================] - 89s 270ms/step - loss: 0.1328 - mse: 0.0313 - val_loss: 0.2086 - val_mse: 0.0438 - lr: 0.0050\n",
            "Epoch 2/20\n",
            "300/300 [==============================] - 81s 270ms/step - loss: 0.1028 - mse: 0.0253 - val_loss: 0.1079 - val_mse: 0.0258 - lr: 0.0050\n",
            "Epoch 3/20\n",
            "300/300 [==============================] - 81s 270ms/step - loss: 0.0882 - mse: 0.0214 - val_loss: 0.1016 - val_mse: 0.0243 - lr: 0.0050\n",
            "Epoch 4/20\n",
            "300/300 [==============================] - 81s 269ms/step - loss: 0.0732 - mse: 0.0167 - val_loss: 0.0741 - val_mse: 0.0174 - lr: 0.0050\n",
            "Epoch 5/20\n",
            "300/300 [==============================] - 80s 268ms/step - loss: 0.0703 - mse: 0.0157 - val_loss: 0.0684 - val_mse: 0.0150 - lr: 0.0050\n",
            "Epoch 6/20\n",
            "300/300 [==============================] - 80s 268ms/step - loss: 0.0675 - mse: 0.0148 - val_loss: 0.0720 - val_mse: 0.0164 - lr: 0.0050\n",
            "Epoch 7/20\n",
            "300/300 [==============================] - 81s 269ms/step - loss: 0.0661 - mse: 0.0143 - val_loss: 0.0642 - val_mse: 0.0136 - lr: 0.0050\n",
            "Epoch 8/20\n",
            "300/300 [==============================] - 80s 268ms/step - loss: 0.0647 - mse: 0.0138 - val_loss: 0.0643 - val_mse: 0.0136 - lr: 0.0050\n",
            "Epoch 9/20\n",
            "300/300 [==============================] - 80s 268ms/step - loss: 0.0643 - mse: 0.0136 - val_loss: 0.0631 - val_mse: 0.0132 - lr: 0.0050\n",
            "Epoch 10/20\n",
            "300/300 [==============================] - 81s 269ms/step - loss: 0.0628 - mse: 0.0132 - val_loss: 0.0611 - val_mse: 0.0127 - lr: 0.0050\n",
            "Epoch 11/20\n",
            "300/300 [==============================] - 81s 269ms/step - loss: 0.0598 - mse: 0.0122 - val_loss: 0.0589 - val_mse: 0.0119 - lr: 1.0000e-03\n",
            "Epoch 12/20\n",
            "300/300 [==============================] - 80s 268ms/step - loss: 0.0597 - mse: 0.0122 - val_loss: 0.0593 - val_mse: 0.0121 - lr: 0.0010\n",
            "Epoch 13/20\n",
            "300/300 [==============================] - 67s 224ms/step - loss: 0.0589 - mse: 0.0119 - val_loss: 0.0592 - val_mse: 0.0119 - lr: 0.0010\n",
            "Epoch 14/20\n",
            "300/300 [==============================] - 67s 223ms/step - loss: 0.0583 - mse: 0.0117 - val_loss: 0.0585 - val_mse: 0.0117 - lr: 0.0010\n",
            "Epoch 15/20\n",
            "300/300 [==============================] - 67s 223ms/step - loss: 0.0580 - mse: 0.0116 - val_loss: 0.0581 - val_mse: 0.0116 - lr: 0.0010\n",
            "Epoch 16/20\n",
            "300/300 [==============================] - 67s 223ms/step - loss: 0.0576 - mse: 0.0115 - val_loss: 0.0571 - val_mse: 0.0114 - lr: 0.0010\n",
            "Epoch 17/20\n",
            "300/300 [==============================] - 67s 222ms/step - loss: 0.0574 - mse: 0.0114 - val_loss: 0.0572 - val_mse: 0.0114 - lr: 0.0010\n",
            "Epoch 18/20\n",
            "300/300 [==============================] - 67s 222ms/step - loss: 0.0569 - mse: 0.0113 - val_loss: 0.0569 - val_mse: 0.0113 - lr: 0.0010\n",
            "Epoch 19/20\n",
            "300/300 [==============================] - 67s 222ms/step - loss: 0.0567 - mse: 0.0112 - val_loss: 0.0569 - val_mse: 0.0113 - lr: 0.0010\n",
            "Epoch 20/20\n",
            "300/300 [==============================] - 67s 222ms/step - loss: 0.0562 - mse: 0.0110 - val_loss: 0.0562 - val_mse: 0.0111 - lr: 0.0010\n"
          ]
        },
        {
          "data": {
            "text/plain": [
              "<keras.callbacks.History at 0x7f95f2d3e7f0>"
            ]
          },
          "execution_count": 31,
          "metadata": {},
          "output_type": "execute_result"
        }
      ],
      "source": [
        "train_model(model_autoenc_inc, train_gen, val_gen, steps_per_epoch=300, val_steps=60, callbacks=[early_stopping, reduce_lr])"
      ]
    },
    {
      "cell_type": "code",
      "execution_count": 82,
      "metadata": {},
      "outputs": [
        {
          "name": "stdout",
          "output_type": "stream",
          "text": [
            "Weight range: -0.11671412736177444 - 1.0\n"
          ]
        },
        {
          "data": {
            "image/png": "[encoded data removed]",
            "text/plain": [
              "<Figure size 640x480 with 1 Axes>"
            ]
          },
          "metadata": {},
          "output_type": "display_data"
        }
      ],
      "source": [
        "get_weights_range(model_autoenc)\n",
        "plot_weight_distribution(model_autoenc_att)"
      ]
    },
    {
      "cell_type": "markdown",
      "metadata": {},
      "source": [
        "Uncomment to load the weights"
      ]
    },
    {
      "cell_type": "code",
      "execution_count": 70,
      "metadata": {},
      "outputs": [],
      "source": [
        "# model_autoenc.save_weights('./models/300_20/model_autoenc_weights', overwrite=True, save_format=None, options=None)\n",
        "# model_autoenc_att.save_weights('./models/300_20/model_autoenc_att_weights', overwrite=True, save_format=None, options=None)\n",
        "# model_autoenc_att2.save_weights('./models/300_20/model_autoenc_att2_weights', overwrite=True, save_format=None, options=None)\n",
        "# model_autoenc_inc.save_weights('./models/300_20/model_autoenc_inc_weights', overwrite=True, save_format=None, options=None)\n",
        "# model_autoenc_att_res.save_weights('./models/300_20/model_autoenc_att_res_weights', overwrite=True, save_format=None, options=None)\n",
        "# model_3lstm_conv.save_weights('./models/300_20/model_3lstm_conv_weights', overwrite=True, save_format=None, options=None)"
      ]
    },
    {
      "cell_type": "code",
      "execution_count": 42,
      "metadata": {},
      "outputs": [
        {
          "data": {
            "text/plain": [
              "<tensorflow.python.checkpoint.checkpoint.CheckpointLoadStatus at 0x7f97ed23ce50>"
            ]
          },
          "execution_count": 42,
          "metadata": {},
          "output_type": "execute_result"
        }
      ],
      "source": [
        "# Load Weights for 300/20\n",
        "# model_3lstm_conv.load_weights('./models/300_20/model_3lstm_conv_weights', skip_mismatch=False, by_name=False, options=None)\n",
        "# model_autoenc.load_weights('./models/300_20/model_autoenc_weights', skip_mismatch=False, by_name=False, options=None)\n",
        "# model_autoenc_att.load_weights('./models/300_20/model_autoenc_att_weights', skip_mismatch=False, by_name=False, options=None)\n",
        "# model_autoenc_att2.load_weights('./models/300_20/model_autoenc_att2_weights', skip_mismatch=False, by_name=False, options=None)\n",
        "# model_autoenc_att_res.load_weights('./models/300_20/model_autoenc_att_res_weights', skip_mismatch=False, by_name=False, options=None)"
      ]
    },
    {
      "cell_type": "code",
      "execution_count": 43,
      "metadata": {},
      "outputs": [
        {
          "data": {
            "image/png": "[encoded data removed]",
            "text/plain": [
              "<Figure size 1000x4000 with 4 Axes>"
            ]
          },
          "metadata": {},
          "output_type": "display_data"
        },
        {
          "data": {
            "image/png": "[encoded data removed]",
            "text/plain": [
              "<Figure size 1000x4000 with 4 Axes>"
            ]
          },
          "metadata": {},
          "output_type": "display_data"
        },
        {
          "data": {
            "image/png": "[encoded data removed]",
            "text/plain": [
              "<Figure size 1000x4000 with 4 Axes>"
            ]
          },
          "metadata": {},
          "output_type": "display_data"
        },
        {
          "data": {
            "image/png": "[encoded data removed]",
            "text/plain": [
              "<Figure size 1000x4000 with 4 Axes>"
            ]
          },
          "metadata": {},
          "output_type": "display_data"
        },
        {
          "data": {
            "image/png": "[encoded data removed]",
            "text/plain": [
              "<Figure size 1000x4000 with 4 Axes>"
            ]
          },
          "metadata": {},
          "output_type": "display_data"
        },
        {
          "data": {
            "image/png": "[encoded data removed]",
            "text/plain": [
              "<Figure size 1000x4000 with 4 Axes>"
            ]
          },
          "metadata": {},
          "output_type": "display_data"
        },
        {
          "data": {
            "image/png": "[encoded data removed]",
            "text/plain": [
              "<Figure size 1000x4000 with 4 Axes>"
            ]
          },
          "metadata": {},
          "output_type": "display_data"
        }
      ],
      "source": [
        "models = {\n",
        "  'lstm3': {\n",
        "    'model': model_3lstm_conv,\n",
        "    'name': 'ConvLSTM 3 Layer'\n",
        "  },\n",
        "  'autoenc': {\n",
        "    'model': model_autoenc,\n",
        "    'name': 'Enc-Dec',\n",
        "  },\n",
        "  'autoenc_att': {\n",
        "    'model': model_autoenc_att,\n",
        "    'name': 'Att-Enc-Dec'\n",
        "  },\n",
        "  'autoenc_att2': {\n",
        "    'model': model_autoenc_att2,\n",
        "    'name': 'Att-Enc-Att-Dec'\n",
        "  },\n",
        "  'autoenc_inc': {\n",
        "    'model': model_autoenc_inc,\n",
        "    'name': 'Enc-Inc-Dec'\n",
        "  },\n",
        "  'autoenc_att_res': {\n",
        "    'model': model_autoenc_att_res,\n",
        "    'name': 'Att-Enc-Att-Dec+Residual'\n",
        "  },\n",
        "}\n",
        "# visual_test(model_autoenc, sample_x, sample_y)\n",
        "compare_models_visual(models, test_gen)\n",
        "# print(f'Avg mse: {compute_mse(model_autoenc, test_gen)}')"
      ]
    },
    {
      "cell_type": "code",
      "execution_count": 71,
      "metadata": {},
      "outputs": [
        {
          "name": "stdout",
          "output_type": "stream",
          "text": [
            "Evaluating ConvLSTM 3 Layer\n",
            "  10/1000 [..............................] - ETA: 12s - loss: 0.0730 - mse: 0.0158"
          ]
        },
        {
          "name": "stderr",
          "output_type": "stream",
          "text": [
            "2023-07-08 16:16:13.103417: I tensorflow/core/common_runtime/executor.cc:1197] [/device:CPU:0] (DEBUG INFO) Executor start aborting (this does not indicate an error and you can ignore this message): INVALID_ARGUMENT: You must feed a value for placeholder tensor 'Placeholder/_0' with dtype int32\n",
            "\t [[{{node Placeholder/_0}}]]\n"
          ]
        },
        {
          "name": "stdout",
          "output_type": "stream",
          "text": [
            "1000/1000 [==============================] - 11s 11ms/step - loss: 0.0728 - mse: 0.0159\n",
            "Evaluating Enc-Dec\n",
            "  22/1000 [..............................] - ETA: 7s - loss: 0.0658 - mse: 0.0138"
          ]
        },
        {
          "name": "stderr",
          "output_type": "stream",
          "text": [
            "2023-07-08 16:16:23.965971: I tensorflow/core/common_runtime/executor.cc:1197] [/device:CPU:0] (DEBUG INFO) Executor start aborting (this does not indicate an error and you can ignore this message): INVALID_ARGUMENT: You must feed a value for placeholder tensor 'Placeholder/_0' with dtype int32\n",
            "\t [[{{node Placeholder/_0}}]]\n"
          ]
        },
        {
          "name": "stdout",
          "output_type": "stream",
          "text": [
            "1000/1000 [==============================] - 8s 8ms/step - loss: 0.0569 - mse: 0.0112\n",
            "Evaluating Att-Enc-Dec\n",
            "  22/1000 [..............................] - ETA: 7s - loss: 0.0663 - mse: 0.0145"
          ]
        },
        {
          "name": "stderr",
          "output_type": "stream",
          "text": [
            "2023-07-08 16:16:31.780242: I tensorflow/core/common_runtime/executor.cc:1197] [/device:CPU:0] (DEBUG INFO) Executor start aborting (this does not indicate an error and you can ignore this message): INVALID_ARGUMENT: You must feed a value for placeholder tensor 'Placeholder/_0' with dtype int32\n",
            "\t [[{{node Placeholder/_0}}]]\n"
          ]
        },
        {
          "name": "stdout",
          "output_type": "stream",
          "text": [
            "1000/1000 [==============================] - 8s 8ms/step - loss: 0.0687 - mse: 0.0150\n",
            "Evaluating Att-Enc-Att-Dec\n",
            "  20/1000 [..............................] - ETA: 8s - loss: 0.1086 - mse: 0.0263"
          ]
        },
        {
          "name": "stderr",
          "output_type": "stream",
          "text": [
            "2023-07-08 16:16:39.814607: I tensorflow/core/common_runtime/executor.cc:1197] [/device:CPU:0] (DEBUG INFO) Executor start aborting (this does not indicate an error and you can ignore this message): INVALID_ARGUMENT: You must feed a value for placeholder tensor 'Placeholder/_0' with dtype int32\n",
            "\t [[{{node Placeholder/_0}}]]\n"
          ]
        },
        {
          "name": "stdout",
          "output_type": "stream",
          "text": [
            "1000/1000 [==============================] - 8s 8ms/step - loss: 0.1004 - mse: 0.0243\n",
            "Evaluating Enc-Inc-Dec\n",
            "  13/1000 [..............................] - ETA: 9s - loss: 0.0620 - mse: 0.0128 "
          ]
        },
        {
          "name": "stderr",
          "output_type": "stream",
          "text": [
            "2023-07-08 16:16:48.050946: I tensorflow/core/common_runtime/executor.cc:1197] [/device:CPU:0] (DEBUG INFO) Executor start aborting (this does not indicate an error and you can ignore this message): INVALID_ARGUMENT: You must feed a value for placeholder tensor 'Placeholder/_0' with dtype int32\n",
            "\t [[{{node Placeholder/_0}}]]\n"
          ]
        },
        {
          "name": "stdout",
          "output_type": "stream",
          "text": [
            "1000/1000 [==============================] - 9s 9ms/step - loss: 0.0564 - mse: 0.0111\n",
            "Evaluating Att-Enc-Att-Dec+Residual\n",
            "  13/1000 [..............................] - ETA: 12s - loss: 0.0485 - mse: 0.0087"
          ]
        },
        {
          "name": "stderr",
          "output_type": "stream",
          "text": [
            "2023-07-08 16:16:57.438805: I tensorflow/core/common_runtime/executor.cc:1197] [/device:CPU:0] (DEBUG INFO) Executor start aborting (this does not indicate an error and you can ignore this message): INVALID_ARGUMENT: You must feed a value for placeholder tensor 'Placeholder/_0' with dtype int32\n",
            "\t [[{{node Placeholder/_0}}]]\n"
          ]
        },
        {
          "name": "stdout",
          "output_type": "stream",
          "text": [
            "1000/1000 [==============================] - 13s 13ms/step - loss: 0.0519 - mse: 0.0096\n"
          ]
        }
      ],
      "source": [
        "compare_models_mse(models, test_gen)"
      ]
    },
    {
      "cell_type": "markdown",
      "metadata": {},
      "source": [
        "Only the models that where below the baseline MSE of the 3-layer LSTM (0.016) were trained more extensively"
      ]
    },
    {
      "cell_type": "markdown",
      "metadata": {},
      "source": [
        "## Training 500 steps / 30 epochs"
      ]
    },
    {
      "cell_type": "code",
      "execution_count": 24,
      "metadata": {},
      "outputs": [],
      "source": [
        "LR_SCHEDULE = [\n",
        "    (5, 0.001),\n",
        "]\n",
        "\n",
        "early_stopping = keras.callbacks.EarlyStopping(monitor=\"val_loss\", patience=5, restore_best_weights=True)\n",
        "# reduce_lr = keras.callbacks.ReduceLROnPlateau(monitor=\"val_mse\", patience=3, min_lr=0.001, factor=0.2)\n",
        "reduce_lr = CustomLearningRateScheduler(LR_SCHEDULE)"
      ]
    },
    {
      "cell_type": "code",
      "execution_count": 89,
      "metadata": {},
      "outputs": [
        {
          "name": "stdout",
          "output_type": "stream",
          "text": [
            "Epoch 1/30\n"
          ]
        },
        {
          "name": "stderr",
          "output_type": "stream",
          "text": [
            "2023-07-08 17:02:19.128609: I tensorflow/core/common_runtime/executor.cc:1197] [/device:CPU:0] (DEBUG INFO) Executor start aborting (this does not indicate an error and you can ignore this message): INVALID_ARGUMENT: You must feed a value for placeholder tensor 'Placeholder/_0' with dtype int32\n",
            "\t [[{{node Placeholder/_0}}]]\n"
          ]
        },
        {
          "name": "stdout",
          "output_type": "stream",
          "text": [
            "500/500 [==============================] - ETA: 0s - loss: 0.1140 - mse: 0.0255"
          ]
        },
        {
          "name": "stderr",
          "output_type": "stream",
          "text": [
            "2023-07-08 17:05:17.081245: I tensorflow/core/common_runtime/executor.cc:1197] [/device:CPU:0] (DEBUG INFO) Executor start aborting (this does not indicate an error and you can ignore this message): INVALID_ARGUMENT: You must feed a value for placeholder tensor 'Placeholder/_0' with dtype int32\n",
            "\t [[{{node Placeholder/_0}}]]\n"
          ]
        },
        {
          "name": "stdout",
          "output_type": "stream",
          "text": [
            "500/500 [==============================] - 185s 360ms/step - loss: 0.1140 - mse: 0.0255 - val_loss: 0.1192 - val_mse: 0.0279 - lr: 0.0050\n",
            "Epoch 2/30\n",
            "500/500 [==============================] - 183s 365ms/step - loss: 0.0832 - mse: 0.0194 - val_loss: 0.0825 - val_mse: 0.0192 - lr: 0.0050\n",
            "Epoch 3/30\n",
            "500/500 [==============================] - 184s 368ms/step - loss: 0.0801 - mse: 0.0183 - val_loss: 0.0804 - val_mse: 0.0183 - lr: 0.0050\n",
            "Epoch 4/30\n",
            "500/500 [==============================] - 185s 370ms/step - loss: 0.0785 - mse: 0.0178 - val_loss: 0.0806 - val_mse: 0.0182 - lr: 0.0050\n",
            "Epoch 5/30\n",
            "500/500 [==============================] - 156s 313ms/step - loss: 0.0775 - mse: 0.0175 - val_loss: 0.0768 - val_mse: 0.0172 - lr: 0.0050\n",
            "Epoch 6/30\n",
            "500/500 [==============================] - 181s 361ms/step - loss: 0.0750 - mse: 0.0166 - val_loss: 0.0743 - val_mse: 0.0164 - lr: 1.0000e-03\n",
            "Epoch 7/30\n",
            "500/500 [==============================] - 187s 373ms/step - loss: 0.0738 - mse: 0.0163 - val_loss: 0.0728 - val_mse: 0.0159 - lr: 0.0010\n",
            "Epoch 8/30\n",
            "500/500 [==============================] - 187s 374ms/step - loss: 0.0739 - mse: 0.0163 - val_loss: 0.0733 - val_mse: 0.0161 - lr: 0.0010\n",
            "Epoch 9/30\n",
            "500/500 [==============================] - 187s 373ms/step - loss: 0.0726 - mse: 0.0159 - val_loss: 0.0736 - val_mse: 0.0161 - lr: 0.0010\n",
            "Epoch 10/30\n",
            "500/500 [==============================] - 321s 643ms/step - loss: 0.0732 - mse: 0.0160 - val_loss: 0.0720 - val_mse: 0.0156 - lr: 0.0010\n",
            "Epoch 11/30\n",
            "500/500 [==============================] - 185s 369ms/step - loss: 0.0726 - mse: 0.0159 - val_loss: 0.0726 - val_mse: 0.0157 - lr: 0.0010\n",
            "Epoch 12/30\n",
            "500/500 [==============================] - 186s 372ms/step - loss: 0.0724 - mse: 0.0158 - val_loss: 0.0721 - val_mse: 0.0157 - lr: 0.0010\n",
            "Epoch 13/30\n",
            "500/500 [==============================] - 175s 349ms/step - loss: 0.0722 - mse: 0.0157 - val_loss: 0.0713 - val_mse: 0.0155 - lr: 0.0010\n",
            "Epoch 14/30\n",
            "500/500 [==============================] - 153s 307ms/step - loss: 0.0723 - mse: 0.0158 - val_loss: 0.0707 - val_mse: 0.0152 - lr: 0.0010\n",
            "Epoch 15/30\n",
            "500/500 [==============================] - 153s 307ms/step - loss: 0.0717 - mse: 0.0156 - val_loss: 0.0721 - val_mse: 0.0157 - lr: 0.0010\n",
            "Epoch 16/30\n",
            "500/500 [==============================] - 153s 307ms/step - loss: 0.0713 - mse: 0.0154 - val_loss: 0.0705 - val_mse: 0.0153 - lr: 0.0010\n",
            "Epoch 17/30\n",
            "500/500 [==============================] - 153s 307ms/step - loss: 0.0712 - mse: 0.0154 - val_loss: 0.0705 - val_mse: 0.0152 - lr: 0.0010\n",
            "Epoch 18/30\n",
            "500/500 [==============================] - 153s 307ms/step - loss: 0.0710 - mse: 0.0153 - val_loss: 0.0716 - val_mse: 0.0155 - lr: 0.0010\n",
            "Epoch 19/30\n",
            "500/500 [==============================] - 153s 307ms/step - loss: 0.0712 - mse: 0.0154 - val_loss: 0.0703 - val_mse: 0.0151 - lr: 0.0010\n",
            "Epoch 20/30\n",
            "500/500 [==============================] - 153s 306ms/step - loss: 0.0708 - mse: 0.0153 - val_loss: 0.0703 - val_mse: 0.0151 - lr: 0.0010\n",
            "Epoch 21/30\n",
            "500/500 [==============================] - 153s 307ms/step - loss: 0.0707 - mse: 0.0152 - val_loss: 0.0712 - val_mse: 0.0154 - lr: 0.0010\n",
            "Epoch 22/30\n",
            "500/500 [==============================] - 153s 306ms/step - loss: 0.0704 - mse: 0.0151 - val_loss: 0.0701 - val_mse: 0.0150 - lr: 0.0010\n",
            "Epoch 23/30\n",
            "500/500 [==============================] - 153s 306ms/step - loss: 0.0696 - mse: 0.0149 - val_loss: 0.0708 - val_mse: 0.0151 - lr: 0.0010\n",
            "Epoch 24/30\n",
            "500/500 [==============================] - 167s 334ms/step - loss: 0.0700 - mse: 0.0150 - val_loss: 0.0699 - val_mse: 0.0149 - lr: 0.0010\n",
            "Epoch 25/30\n",
            "500/500 [==============================] - 189s 378ms/step - loss: 0.0702 - mse: 0.0150 - val_loss: 0.0700 - val_mse: 0.0149 - lr: 0.0010\n",
            "Epoch 26/30\n",
            "500/500 [==============================] - 329s 658ms/step - loss: 0.0697 - mse: 0.0149 - val_loss: 0.0703 - val_mse: 0.0150 - lr: 0.0010\n",
            "Epoch 27/30\n",
            "500/500 [==============================] - 183s 366ms/step - loss: 0.0694 - mse: 0.0148 - val_loss: 0.0699 - val_mse: 0.0149 - lr: 0.0010\n",
            "Epoch 28/30\n",
            "500/500 [==============================] - 186s 371ms/step - loss: 0.0695 - mse: 0.0148 - val_loss: 0.0706 - val_mse: 0.0150 - lr: 0.0010\n",
            "Epoch 29/30\n",
            "500/500 [==============================] - 187s 373ms/step - loss: 0.0693 - mse: 0.0147 - val_loss: 0.0692 - val_mse: 0.0147 - lr: 0.0010\n",
            "Epoch 30/30\n",
            "500/500 [==============================] - 322s 645ms/step - loss: 0.0692 - mse: 0.0148 - val_loss: 0.0681 - val_mse: 0.0144 - lr: 0.0010\n"
          ]
        }
      ],
      "source": [
        "train_model(model_3lstm_conv, train_gen, val_gen, epochs=30, steps_per_epoch=500, val_steps=60, callbacks=[early_stopping, reduce_lr])\n",
        "model_3lstm_conv.save_weights('./models/500_30/model_3lstm_conv_weights', overwrite=True, save_format=None, options=None)"
      ]
    },
    {
      "cell_type": "code",
      "execution_count": 92,
      "metadata": {},
      "outputs": [
        {
          "name": "stdout",
          "output_type": "stream",
          "text": [
            "Epoch 1/30\n"
          ]
        },
        {
          "name": "stderr",
          "output_type": "stream",
          "text": [
            "2023-07-08 19:15:10.230457: I tensorflow/core/common_runtime/executor.cc:1197] [/device:CPU:0] (DEBUG INFO) Executor start aborting (this does not indicate an error and you can ignore this message): INVALID_ARGUMENT: You must feed a value for placeholder tensor 'Placeholder/_0' with dtype int32\n",
            "\t [[{{node Placeholder/_0}}]]\n"
          ]
        },
        {
          "name": "stdout",
          "output_type": "stream",
          "text": [
            "500/500 [==============================] - ETA: 0s - loss: 0.1765 - mse: 0.0385"
          ]
        },
        {
          "name": "stderr",
          "output_type": "stream",
          "text": [
            "2023-07-08 19:16:59.405190: I tensorflow/core/common_runtime/executor.cc:1197] [/device:CPU:0] (DEBUG INFO) Executor start aborting (this does not indicate an error and you can ignore this message): INVALID_ARGUMENT: You must feed a value for placeholder tensor 'Placeholder/_0' with dtype int32\n",
            "\t [[{{node Placeholder/_0}}]]\n"
          ]
        },
        {
          "name": "stdout",
          "output_type": "stream",
          "text": [
            "500/500 [==============================] - 114s 216ms/step - loss: 0.1765 - mse: 0.0385 - val_loss: 0.1914 - val_mse: 0.0438 - lr: 0.0050\n",
            "Epoch 2/30\n",
            "500/500 [==============================] - 109s 217ms/step - loss: 0.1488 - mse: 0.0353 - val_loss: 0.1749 - val_mse: 0.0373 - lr: 0.0050\n",
            "Epoch 3/30\n",
            "500/500 [==============================] - 110s 219ms/step - loss: 0.1416 - mse: 0.0346 - val_loss: 0.1406 - val_mse: 0.0341 - lr: 0.0050\n",
            "Epoch 4/30\n",
            "500/500 [==============================] - 110s 219ms/step - loss: 0.1412 - mse: 0.0345 - val_loss: 0.1649 - val_mse: 0.0379 - lr: 0.0050\n",
            "Epoch 5/30\n",
            "500/500 [==============================] - 110s 221ms/step - loss: 0.1405 - mse: 0.0343 - val_loss: 0.1381 - val_mse: 0.0336 - lr: 0.0050\n",
            "Epoch 6/30\n",
            "500/500 [==============================] - 111s 222ms/step - loss: 0.1383 - mse: 0.0340 - val_loss: 0.1378 - val_mse: 0.0336 - lr: 1.0000e-03\n",
            "Epoch 7/30\n",
            "500/500 [==============================] - 111s 221ms/step - loss: 0.1381 - mse: 0.0339 - val_loss: 0.1368 - val_mse: 0.0335 - lr: 0.0010\n",
            "Epoch 8/30\n",
            "500/500 [==============================] - 110s 219ms/step - loss: 0.1384 - mse: 0.0340 - val_loss: 0.1364 - val_mse: 0.0333 - lr: 0.0010\n",
            "Epoch 9/30\n",
            "500/500 [==============================] - 110s 220ms/step - loss: 0.1384 - mse: 0.0341 - val_loss: 0.1358 - val_mse: 0.0332 - lr: 0.0010\n",
            "Epoch 10/30\n",
            "500/500 [==============================] - 110s 220ms/step - loss: 0.1376 - mse: 0.0338 - val_loss: 0.1382 - val_mse: 0.0339 - lr: 0.0010\n",
            "Epoch 11/30\n",
            "500/500 [==============================] - 110s 220ms/step - loss: 0.1308 - mse: 0.0320 - val_loss: 0.2854 - val_mse: 0.0539 - lr: 0.0010\n",
            "Epoch 12/30\n",
            "500/500 [==============================] - 110s 220ms/step - loss: 0.1026 - mse: 0.0246 - val_loss: 0.2168 - val_mse: 0.0430 - lr: 0.0010\n",
            "Epoch 13/30\n",
            "500/500 [==============================] - 104s 209ms/step - loss: 0.0884 - mse: 0.0207 - val_loss: 0.0883 - val_mse: 0.0207 - lr: 0.0010\n",
            "Epoch 14/30\n",
            "500/500 [==============================] - 90s 180ms/step - loss: 0.0832 - mse: 0.0191 - val_loss: 0.0820 - val_mse: 0.0187 - lr: 0.0010\n",
            "Epoch 15/30\n",
            "500/500 [==============================] - 90s 180ms/step - loss: 0.0795 - mse: 0.0181 - val_loss: 0.0797 - val_mse: 0.0181 - lr: 0.0010\n",
            "Epoch 16/30\n",
            "500/500 [==============================] - 90s 180ms/step - loss: 0.0763 - mse: 0.0172 - val_loss: 0.0778 - val_mse: 0.0175 - lr: 0.0010\n",
            "Epoch 17/30\n",
            "500/500 [==============================] - 90s 179ms/step - loss: 0.0747 - mse: 0.0168 - val_loss: 0.0774 - val_mse: 0.0173 - lr: 0.0010\n",
            "Epoch 18/30\n",
            "500/500 [==============================] - 90s 179ms/step - loss: 0.0729 - mse: 0.0163 - val_loss: 0.0746 - val_mse: 0.0169 - lr: 0.0010\n",
            "Epoch 19/30\n",
            "500/500 [==============================] - 90s 179ms/step - loss: 0.0715 - mse: 0.0159 - val_loss: 0.0713 - val_mse: 0.0158 - lr: 0.0010\n",
            "Epoch 20/30\n",
            "500/500 [==============================] - 90s 179ms/step - loss: 0.0707 - mse: 0.0156 - val_loss: 0.0704 - val_mse: 0.0154 - lr: 0.0010\n",
            "Epoch 21/30\n",
            "500/500 [==============================] - 90s 179ms/step - loss: 0.0693 - mse: 0.0151 - val_loss: 0.0686 - val_mse: 0.0150 - lr: 0.0010\n",
            "Epoch 22/30\n",
            "500/500 [==============================] - 90s 179ms/step - loss: 0.0690 - mse: 0.0150 - val_loss: 0.0693 - val_mse: 0.0151 - lr: 0.0010\n",
            "Epoch 23/30\n",
            "500/500 [==============================] - 90s 179ms/step - loss: 0.0682 - mse: 0.0147 - val_loss: 0.0749 - val_mse: 0.0169 - lr: 0.0010\n",
            "Epoch 24/30\n",
            "500/500 [==============================] - 90s 179ms/step - loss: 0.0674 - mse: 0.0145 - val_loss: 0.0685 - val_mse: 0.0149 - lr: 0.0010\n",
            "Epoch 25/30\n",
            "500/500 [==============================] - 90s 179ms/step - loss: 0.0665 - mse: 0.0142 - val_loss: 0.0672 - val_mse: 0.0144 - lr: 0.0010\n",
            "Epoch 26/30\n",
            "500/500 [==============================] - 90s 179ms/step - loss: 0.0658 - mse: 0.0140 - val_loss: 0.0691 - val_mse: 0.0148 - lr: 0.0010\n",
            "Epoch 27/30\n",
            "500/500 [==============================] - 90s 179ms/step - loss: 0.0653 - mse: 0.0138 - val_loss: 0.0666 - val_mse: 0.0143 - lr: 0.0010\n",
            "Epoch 28/30\n",
            "500/500 [==============================] - 90s 179ms/step - loss: 0.0652 - mse: 0.0138 - val_loss: 0.0673 - val_mse: 0.0144 - lr: 0.0010\n",
            "Epoch 29/30\n",
            "500/500 [==============================] - 90s 179ms/step - loss: 0.0642 - mse: 0.0135 - val_loss: 0.0662 - val_mse: 0.0140 - lr: 0.0010\n",
            "Epoch 30/30\n",
            "500/500 [==============================] - 90s 179ms/step - loss: 0.0642 - mse: 0.0135 - val_loss: 0.0657 - val_mse: 0.0139 - lr: 0.0010\n"
          ]
        }
      ],
      "source": [
        "train_model(model_autoenc_att, train_gen, val_gen, epochs=30, steps_per_epoch=500, val_steps=60, callbacks=[early_stopping, reduce_lr])\n",
        "model_autoenc_att.save_weights('./models/500_30/model_autoenc_att_weights', overwrite=True, save_format=None, options=None)"
      ]
    },
    {
      "cell_type": "code",
      "execution_count": 25,
      "metadata": {},
      "outputs": [],
      "source": [
        "LR_SCHEDULE2 = [\n",
        "    (5, 0.001),\n",
        "    (10, 0.0005),\n",
        "]\n",
        "\n",
        "reduce_lr2 = CustomLearningRateScheduler(LR_SCHEDULE2)"
      ]
    },
    {
      "cell_type": "code",
      "execution_count": 96,
      "metadata": {},
      "outputs": [
        {
          "name": "stdout",
          "output_type": "stream",
          "text": [
            "Epoch 1/30\n"
          ]
        },
        {
          "name": "stderr",
          "output_type": "stream",
          "text": [
            "2023-07-08 21:48:27.393274: I tensorflow/core/common_runtime/executor.cc:1197] [/device:CPU:0] (DEBUG INFO) Executor start aborting (this does not indicate an error and you can ignore this message): INVALID_ARGUMENT: You must feed a value for placeholder tensor 'Placeholder/_0' with dtype int32\n",
            "\t [[{{node Placeholder/_0}}]]\n"
          ]
        },
        {
          "name": "stdout",
          "output_type": "stream",
          "text": [
            "500/500 [==============================] - ETA: 0s - loss: 0.0942 - mse: 0.0210"
          ]
        },
        {
          "name": "stderr",
          "output_type": "stream",
          "text": [
            "2023-07-08 21:50:12.643894: I tensorflow/core/common_runtime/executor.cc:1197] [/device:CPU:0] (DEBUG INFO) Executor start aborting (this does not indicate an error and you can ignore this message): INVALID_ARGUMENT: You must feed a value for placeholder tensor 'Placeholder/_0' with dtype int32\n",
            "\t [[{{node Placeholder/_0}}]]\n"
          ]
        },
        {
          "name": "stdout",
          "output_type": "stream",
          "text": [
            "500/500 [==============================] - 110s 209ms/step - loss: 0.0942 - mse: 0.0210 - val_loss: 0.0813 - val_mse: 0.0190 - lr: 0.0050\n",
            "Epoch 2/30\n",
            "500/500 [==============================] - 105s 210ms/step - loss: 0.0707 - mse: 0.0158 - val_loss: 0.0690 - val_mse: 0.0152 - lr: 0.0050\n",
            "Epoch 3/30\n",
            "500/500 [==============================] - 106s 212ms/step - loss: 0.0678 - mse: 0.0148 - val_loss: 0.0690 - val_mse: 0.0154 - lr: 0.0050\n",
            "Epoch 4/30\n",
            "500/500 [==============================] - 107s 213ms/step - loss: 0.0652 - mse: 0.0140 - val_loss: 0.0643 - val_mse: 0.0136 - lr: 0.0050\n",
            "Epoch 5/30\n",
            "500/500 [==============================] - 107s 213ms/step - loss: 0.0640 - mse: 0.0135 - val_loss: 0.0636 - val_mse: 0.0133 - lr: 0.0050\n",
            "Epoch 6/30\n",
            "500/500 [==============================] - 107s 214ms/step - loss: 0.0608 - mse: 0.0124 - val_loss: 0.0606 - val_mse: 0.0123 - lr: 1.0000e-03\n",
            "Epoch 7/30\n",
            "500/500 [==============================] - 107s 215ms/step - loss: 0.0600 - mse: 0.0122 - val_loss: 0.0593 - val_mse: 0.0120 - lr: 0.0010\n",
            "Epoch 8/30\n",
            "500/500 [==============================] - 107s 215ms/step - loss: 0.0596 - mse: 0.0120 - val_loss: 0.0589 - val_mse: 0.0119 - lr: 0.0010\n",
            "Epoch 9/30\n",
            "500/500 [==============================] - 107s 215ms/step - loss: 0.0590 - mse: 0.0119 - val_loss: 0.0591 - val_mse: 0.0119 - lr: 0.0010\n",
            "Epoch 10/30\n",
            "500/500 [==============================] - 108s 216ms/step - loss: 0.0592 - mse: 0.0119 - val_loss: 0.0592 - val_mse: 0.0119 - lr: 0.0010\n",
            "Epoch 11/30\n",
            "500/500 [==============================] - 90s 180ms/step - loss: 0.0579 - mse: 0.0115 - val_loss: 0.0579 - val_mse: 0.0115 - lr: 5.0000e-04\n",
            "Epoch 12/30\n",
            "500/500 [==============================] - 89s 178ms/step - loss: 0.0573 - mse: 0.0113 - val_loss: 0.0577 - val_mse: 0.0114 - lr: 5.0000e-04\n",
            "Epoch 13/30\n",
            "500/500 [==============================] - 89s 178ms/step - loss: 0.0573 - mse: 0.0113 - val_loss: 0.0561 - val_mse: 0.0109 - lr: 5.0000e-04\n",
            "Epoch 14/30\n",
            "500/500 [==============================] - 89s 178ms/step - loss: 0.0571 - mse: 0.0112 - val_loss: 0.0570 - val_mse: 0.0111 - lr: 5.0000e-04\n",
            "Epoch 15/30\n",
            "500/500 [==============================] - 89s 178ms/step - loss: 0.0567 - mse: 0.0111 - val_loss: 0.0576 - val_mse: 0.0114 - lr: 5.0000e-04\n",
            "Epoch 16/30\n",
            "500/500 [==============================] - 89s 178ms/step - loss: 0.0563 - mse: 0.0109 - val_loss: 0.0558 - val_mse: 0.0108 - lr: 5.0000e-04\n",
            "Epoch 17/30\n",
            "500/500 [==============================] - 89s 178ms/step - loss: 0.0565 - mse: 0.0110 - val_loss: 0.0571 - val_mse: 0.0112 - lr: 5.0000e-04\n",
            "Epoch 18/30\n",
            "500/500 [==============================] - 89s 178ms/step - loss: 0.0558 - mse: 0.0108 - val_loss: 0.0564 - val_mse: 0.0109 - lr: 5.0000e-04\n",
            "Epoch 19/30\n",
            "500/500 [==============================] - 89s 178ms/step - loss: 0.0559 - mse: 0.0108 - val_loss: 0.0552 - val_mse: 0.0106 - lr: 5.0000e-04\n",
            "Epoch 20/30\n",
            "500/500 [==============================] - 89s 178ms/step - loss: 0.0555 - mse: 0.0107 - val_loss: 0.0552 - val_mse: 0.0106 - lr: 5.0000e-04\n",
            "Epoch 21/30\n",
            "500/500 [==============================] - 89s 178ms/step - loss: 0.0556 - mse: 0.0107 - val_loss: 0.0545 - val_mse: 0.0104 - lr: 5.0000e-04\n",
            "Epoch 22/30\n",
            "500/500 [==============================] - 89s 178ms/step - loss: 0.0553 - mse: 0.0106 - val_loss: 0.0550 - val_mse: 0.0106 - lr: 5.0000e-04\n",
            "Epoch 23/30\n",
            "500/500 [==============================] - 89s 178ms/step - loss: 0.0552 - mse: 0.0106 - val_loss: 0.0557 - val_mse: 0.0107 - lr: 5.0000e-04\n",
            "Epoch 24/30\n",
            "500/500 [==============================] - 89s 178ms/step - loss: 0.0549 - mse: 0.0105 - val_loss: 0.0559 - val_mse: 0.0108 - lr: 5.0000e-04\n",
            "Epoch 25/30\n",
            "500/500 [==============================] - 89s 178ms/step - loss: 0.0546 - mse: 0.0104 - val_loss: 0.0549 - val_mse: 0.0105 - lr: 5.0000e-04\n",
            "Epoch 26/30\n",
            "500/500 [==============================] - 89s 178ms/step - loss: 0.0552 - mse: 0.0105 - val_loss: 0.0553 - val_mse: 0.0107 - lr: 5.0000e-04\n"
          ]
        }
      ],
      "source": [
        "train_model(model_autoenc, train_gen, val_gen, epochs=30, steps_per_epoch=500, val_steps=60, callbacks=[early_stopping, reduce_lr2])\n",
        "model_autoenc.save_weights('./models/500_30/model_autoenc_weights', overwrite=True, save_format=None, options=None)"
      ]
    },
    {
      "cell_type": "code",
      "execution_count": 97,
      "metadata": {},
      "outputs": [
        {
          "name": "stdout",
          "output_type": "stream",
          "text": [
            "Epoch 1/30\n"
          ]
        },
        {
          "name": "stderr",
          "output_type": "stream",
          "text": [
            "2023-07-08 22:32:00.568758: I tensorflow/core/common_runtime/executor.cc:1197] [/device:CPU:0] (DEBUG INFO) Executor start aborting (this does not indicate an error and you can ignore this message): INVALID_ARGUMENT: You must feed a value for placeholder tensor 'Placeholder/_0' with dtype int32\n",
            "\t [[{{node Placeholder/_0}}]]\n"
          ]
        },
        {
          "name": "stdout",
          "output_type": "stream",
          "text": [
            "500/500 [==============================] - ETA: 0s - loss: 0.0942 - mse: 0.0225"
          ]
        },
        {
          "name": "stderr",
          "output_type": "stream",
          "text": [
            "2023-07-08 22:35:21.278728: I tensorflow/core/common_runtime/executor.cc:1197] [/device:CPU:0] (DEBUG INFO) Executor start aborting (this does not indicate an error and you can ignore this message): INVALID_ARGUMENT: You must feed a value for placeholder tensor 'Placeholder/_0' with dtype int32\n",
            "\t [[{{node Placeholder/_0}}]]\n"
          ]
        },
        {
          "name": "stdout",
          "output_type": "stream",
          "text": [
            "500/500 [==============================] - 210s 403ms/step - loss: 0.0942 - mse: 0.0225 - val_loss: 0.1918 - val_mse: 0.0375\n",
            "Epoch 2/30\n",
            "500/500 [==============================] - 204s 408ms/step - loss: 0.0683 - mse: 0.0149 - val_loss: 0.0652 - val_mse: 0.0138\n",
            "Epoch 3/30\n",
            "500/500 [==============================] - 205s 409ms/step - loss: 0.0632 - mse: 0.0132 - val_loss: 0.0616 - val_mse: 0.0127\n",
            "Epoch 4/30\n",
            "500/500 [==============================] - 193s 386ms/step - loss: 0.0604 - mse: 0.0123 - val_loss: 0.0585 - val_mse: 0.0117\n",
            "Epoch 5/30\n",
            "500/500 [==============================] - 169s 338ms/step - loss: 0.0578 - mse: 0.0115 - val_loss: 0.0565 - val_mse: 0.0111\n",
            "Epoch 6/30\n",
            "500/500 [==============================] - 169s 337ms/step - loss: 0.0565 - mse: 0.0110 - val_loss: 0.0561 - val_mse: 0.0109\n",
            "Epoch 7/30\n",
            "500/500 [==============================] - 168s 337ms/step - loss: 0.0549 - mse: 0.0105 - val_loss: 0.0554 - val_mse: 0.0107\n",
            "Epoch 8/30\n",
            "500/500 [==============================] - 168s 337ms/step - loss: 0.0541 - mse: 0.0103 - val_loss: 0.0541 - val_mse: 0.0103\n",
            "Epoch 9/30\n",
            "500/500 [==============================] - 168s 337ms/step - loss: 0.0534 - mse: 0.0100 - val_loss: 0.0544 - val_mse: 0.0104\n",
            "Epoch 10/30\n",
            "500/500 [==============================] - 168s 336ms/step - loss: 0.0529 - mse: 0.0099 - val_loss: 0.0532 - val_mse: 0.0099\n",
            "Epoch 11/30\n",
            "500/500 [==============================] - 168s 336ms/step - loss: 0.0523 - mse: 0.0097 - val_loss: 0.0528 - val_mse: 0.0099\n",
            "Epoch 12/30\n",
            "500/500 [==============================] - 168s 336ms/step - loss: 0.0521 - mse: 0.0096 - val_loss: 0.0526 - val_mse: 0.0098\n",
            "Epoch 13/30\n",
            "500/500 [==============================] - 168s 336ms/step - loss: 0.0515 - mse: 0.0094 - val_loss: 0.0533 - val_mse: 0.0099\n",
            "Epoch 14/30\n",
            "500/500 [==============================] - 168s 336ms/step - loss: 0.0509 - mse: 0.0093 - val_loss: 0.0515 - val_mse: 0.0095\n",
            "Epoch 15/30\n",
            "500/500 [==============================] - 168s 336ms/step - loss: 0.0511 - mse: 0.0093 - val_loss: 0.0514 - val_mse: 0.0094\n",
            "Epoch 16/30\n",
            "500/500 [==============================] - 168s 336ms/step - loss: 0.0509 - mse: 0.0093 - val_loss: 0.0519 - val_mse: 0.0095\n",
            "Epoch 17/30\n",
            "500/500 [==============================] - 168s 336ms/step - loss: 0.0505 - mse: 0.0091 - val_loss: 0.0520 - val_mse: 0.0096\n",
            "Epoch 18/30\n",
            "500/500 [==============================] - 168s 336ms/step - loss: 0.0500 - mse: 0.0089 - val_loss: 0.0509 - val_mse: 0.0092\n",
            "Epoch 19/30\n",
            "500/500 [==============================] - 168s 336ms/step - loss: 0.0501 - mse: 0.0090 - val_loss: 0.0505 - val_mse: 0.0091\n",
            "Epoch 20/30\n",
            "500/500 [==============================] - 168s 336ms/step - loss: 0.0496 - mse: 0.0088 - val_loss: 0.0512 - val_mse: 0.0093\n",
            "Epoch 21/30\n",
            "500/500 [==============================] - 168s 336ms/step - loss: 0.0491 - mse: 0.0087 - val_loss: 0.0497 - val_mse: 0.0088\n",
            "Epoch 22/30\n",
            "500/500 [==============================] - 168s 336ms/step - loss: 0.0495 - mse: 0.0088 - val_loss: 0.0508 - val_mse: 0.0092\n",
            "Epoch 23/30\n",
            "500/500 [==============================] - 168s 336ms/step - loss: 0.0491 - mse: 0.0087 - val_loss: 0.0497 - val_mse: 0.0088\n",
            "Epoch 24/30\n",
            "500/500 [==============================] - 168s 336ms/step - loss: 0.0493 - mse: 0.0087 - val_loss: 0.0490 - val_mse: 0.0086\n",
            "Epoch 25/30\n",
            "500/500 [==============================] - 168s 336ms/step - loss: 0.0492 - mse: 0.0087 - val_loss: 0.0502 - val_mse: 0.0091\n",
            "Epoch 26/30\n",
            "500/500 [==============================] - 168s 336ms/step - loss: 0.0491 - mse: 0.0086 - val_loss: 0.0496 - val_mse: 0.0088\n",
            "Epoch 27/30\n",
            "500/500 [==============================] - 168s 337ms/step - loss: 0.0485 - mse: 0.0085 - val_loss: 0.0502 - val_mse: 0.0090\n",
            "Epoch 28/30\n",
            "500/500 [==============================] - 205s 409ms/step - loss: 0.0484 - mse: 0.0085 - val_loss: 0.0494 - val_mse: 0.0088\n",
            "Epoch 29/30\n",
            "500/500 [==============================] - 204s 408ms/step - loss: 0.0484 - mse: 0.0085 - val_loss: 0.0487 - val_mse: 0.0085\n",
            "Epoch 30/30\n",
            "500/500 [==============================] - 204s 408ms/step - loss: 0.0483 - mse: 0.0084 - val_loss: 0.0493 - val_mse: 0.0087\n"
          ]
        }
      ],
      "source": [
        "train_model(model_autoenc_att_res, train_gen, val_gen, epochs=30, steps_per_epoch=500, val_steps=60, callbacks=[early_stopping])\n",
        "model_autoenc_att_res.save_weights('./models/500_30/model_autoenc_att_res_weights', overwrite=True, save_format=None, options=None)"
      ]
    },
    {
      "cell_type": "code",
      "execution_count": 36,
      "metadata": {},
      "outputs": [
        {
          "name": "stdout",
          "output_type": "stream",
          "text": [
            "Epoch 1/20\n"
          ]
        },
        {
          "name": "stderr",
          "output_type": "stream",
          "text": [
            "2023-07-09 17:55:48.828657: I tensorflow/core/common_runtime/executor.cc:1197] [/device:CPU:0] (DEBUG INFO) Executor start aborting (this does not indicate an error and you can ignore this message): INVALID_ARGUMENT: You must feed a value for placeholder tensor 'Placeholder/_0' with dtype int32\n",
            "\t [[{{node Placeholder/_0}}]]\n"
          ]
        },
        {
          "name": "stdout",
          "output_type": "stream",
          "text": [
            " 11/500 [..............................] - ETA: 2:30 - loss: 0.0492 - mse: 0.0087"
          ]
        },
        {
          "name": "stdout",
          "output_type": "stream",
          "text": [
            "500/500 [==============================] - ETA: 0s - loss: 0.0481 - mse: 0.0083"
          ]
        },
        {
          "name": "stderr",
          "output_type": "stream",
          "text": [
            "2023-07-09 17:58:22.885566: I tensorflow/core/common_runtime/executor.cc:1197] [/device:CPU:0] (DEBUG INFO) Executor start aborting (this does not indicate an error and you can ignore this message): INVALID_ARGUMENT: You must feed a value for placeholder tensor 'Placeholder/_0' with dtype int32\n",
            "\t [[{{node Placeholder/_0}}]]\n"
          ]
        },
        {
          "name": "stdout",
          "output_type": "stream",
          "text": [
            "500/500 [==============================] - 161s 322ms/step - loss: 0.0481 - mse: 0.0083 - val_loss: 0.0482 - val_mse: 0.0084\n",
            "Epoch 2/20\n",
            "500/500 [==============================] - 161s 321ms/step - loss: 0.0478 - mse: 0.0083 - val_loss: 0.0479 - val_mse: 0.0083\n",
            "Epoch 3/20\n",
            "500/500 [==============================] - 161s 321ms/step - loss: 0.0480 - mse: 0.0083 - val_loss: 0.0487 - val_mse: 0.0085\n",
            "Epoch 4/20\n",
            "500/500 [==============================] - 161s 322ms/step - loss: 0.0476 - mse: 0.0082 - val_loss: 0.0488 - val_mse: 0.0085\n",
            "Epoch 5/20\n",
            "500/500 [==============================] - 161s 322ms/step - loss: 0.0476 - mse: 0.0082 - val_loss: 0.0478 - val_mse: 0.0083\n",
            "Epoch 6/20\n",
            "500/500 [==============================] - 161s 322ms/step - loss: 0.0476 - mse: 0.0082 - val_loss: 0.0480 - val_mse: 0.0084\n",
            "Epoch 7/20\n",
            "500/500 [==============================] - 161s 322ms/step - loss: 0.0474 - mse: 0.0081 - val_loss: 0.0477 - val_mse: 0.0082\n",
            "Epoch 8/20\n",
            "500/500 [==============================] - 161s 322ms/step - loss: 0.0472 - mse: 0.0081 - val_loss: 0.0479 - val_mse: 0.0083\n",
            "Epoch 9/20\n",
            "500/500 [==============================] - 161s 322ms/step - loss: 0.0469 - mse: 0.0080 - val_loss: 0.0483 - val_mse: 0.0084\n",
            "Epoch 10/20\n",
            "500/500 [==============================] - 187s 375ms/step - loss: 0.0473 - mse: 0.0081 - val_loss: 0.0483 - val_mse: 0.0083\n",
            "Epoch 11/20\n",
            "500/500 [==============================] - 333s 666ms/step - loss: 0.0470 - mse: 0.0080 - val_loss: 0.0490 - val_mse: 0.0086\n",
            "Epoch 12/20\n",
            "500/500 [==============================] - 194s 388ms/step - loss: 0.0472 - mse: 0.0080 - val_loss: 0.0481 - val_mse: 0.0084\n"
          ]
        },
        {
          "data": {
            "text/plain": [
              "<keras.callbacks.History at 0x7ff548161d30>"
            ]
          },
          "execution_count": 36,
          "metadata": {},
          "output_type": "execute_result"
        }
      ],
      "source": [
        "train_model(model_autoenc_att_res, train_gen, val_gen, epochs=20, steps_per_epoch=500, val_steps=60, callbacks=[early_stopping])"
      ]
    },
    {
      "cell_type": "code",
      "execution_count": 39,
      "metadata": {},
      "outputs": [],
      "source": [
        "model_autoenc_att_res.save_weights('./models/500_30/model_autoenc_att_res_weights', overwrite=True, save_format=None, options=None)"
      ]
    },
    {
      "cell_type": "code",
      "execution_count": 26,
      "metadata": {},
      "outputs": [
        {
          "name": "stdout",
          "output_type": "stream",
          "text": [
            "Epoch 1/30\n"
          ]
        },
        {
          "name": "stderr",
          "output_type": "stream",
          "text": [
            "2023-07-09 12:31:35.016964: I tensorflow/core/common_runtime/executor.cc:1197] [/device:CPU:0] (DEBUG INFO) Executor start aborting (this does not indicate an error and you can ignore this message): INVALID_ARGUMENT: You must feed a value for placeholder tensor 'Placeholder/_0' with dtype int32\n",
            "\t [[{{node Placeholder/_0}}]]\n",
            "2023-07-09 12:31:40.280965: I tensorflow/compiler/xla/stream_executor/cuda/cuda_dnn.cc:424] Loaded cuDNN version 8600\n",
            "2023-07-09 12:31:44.149463: I tensorflow/compiler/xla/service/service.cc:169] XLA service 0x7ff51c62a040 initialized for platform CUDA (this does not guarantee that XLA will be used). Devices:\n",
            "2023-07-09 12:31:44.149489: I tensorflow/compiler/xla/service/service.cc:177]   StreamExecutor device (0): NVIDIA GeForce RTX 3070 Laptop GPU, Compute Capability 8.6\n",
            "2023-07-09 12:31:44.153228: I tensorflow/compiler/mlir/tensorflow/utils/dump_mlir_util.cc:269] disabling MLIR crash reproducer, set env var `MLIR_CRASH_REPRODUCER_DIRECTORY` to enable.\n",
            "2023-07-09 12:31:44.255463: I ./tensorflow/compiler/jit/device_compiler.h:180] Compiled cluster using XLA!  This line is logged at most once for the lifetime of the process.\n"
          ]
        },
        {
          "name": "stdout",
          "output_type": "stream",
          "text": [
            "500/500 [==============================] - ETA: 0s - loss: 0.1208 - mse: 0.0290"
          ]
        },
        {
          "name": "stderr",
          "output_type": "stream",
          "text": [
            "2023-07-09 12:33:44.490154: I tensorflow/core/common_runtime/executor.cc:1197] [/device:CPU:0] (DEBUG INFO) Executor start aborting (this does not indicate an error and you can ignore this message): INVALID_ARGUMENT: You must feed a value for placeholder tensor 'Placeholder/_0' with dtype int32\n",
            "\t [[{{node Placeholder/_0}}]]\n"
          ]
        },
        {
          "name": "stdout",
          "output_type": "stream",
          "text": [
            "500/500 [==============================] - 135s 245ms/step - loss: 0.1208 - mse: 0.0290 - val_loss: 0.1282 - val_mse: 0.0313 - lr: 0.0050\n",
            "Epoch 2/30\n",
            "500/500 [==============================] - 124s 248ms/step - loss: 0.1023 - mse: 0.0250 - val_loss: 0.0991 - val_mse: 0.0240 - lr: 0.0050\n",
            "Epoch 3/30\n",
            "500/500 [==============================] - 125s 250ms/step - loss: 0.0986 - mse: 0.0239 - val_loss: 0.1157 - val_mse: 0.0294 - lr: 0.0050\n",
            "Epoch 4/30\n",
            "500/500 [==============================] - 125s 250ms/step - loss: 0.0875 - mse: 0.0209 - val_loss: 0.0754 - val_mse: 0.0176 - lr: 0.0050\n",
            "Epoch 5/30\n",
            "500/500 [==============================] - 126s 251ms/step - loss: 0.0714 - mse: 0.0161 - val_loss: 0.0695 - val_mse: 0.0154 - lr: 0.0050\n",
            "Epoch 6/30\n",
            "500/500 [==============================] - 123s 246ms/step - loss: 0.0663 - mse: 0.0144 - val_loss: 0.0660 - val_mse: 0.0142 - lr: 1.0000e-03\n",
            "Epoch 7/30\n",
            "500/500 [==============================] - 105s 210ms/step - loss: 0.0652 - mse: 0.0140 - val_loss: 0.0648 - val_mse: 0.0138 - lr: 0.0010\n",
            "Epoch 8/30\n",
            "500/500 [==============================] - 105s 210ms/step - loss: 0.0640 - mse: 0.0135 - val_loss: 0.0638 - val_mse: 0.0135 - lr: 0.0010\n",
            "Epoch 9/30\n",
            "500/500 [==============================] - 105s 210ms/step - loss: 0.0626 - mse: 0.0131 - val_loss: 0.0616 - val_mse: 0.0127 - lr: 0.0010\n",
            "Epoch 10/30\n",
            "500/500 [==============================] - 105s 210ms/step - loss: 0.0624 - mse: 0.0130 - val_loss: 0.0608 - val_mse: 0.0126 - lr: 0.0010\n",
            "Epoch 11/30\n",
            "500/500 [==============================] - 105s 210ms/step - loss: 0.0609 - mse: 0.0125 - val_loss: 0.0610 - val_mse: 0.0126 - lr: 0.0010\n",
            "Epoch 12/30\n",
            "500/500 [==============================] - 105s 210ms/step - loss: 0.0603 - mse: 0.0123 - val_loss: 0.0614 - val_mse: 0.0126 - lr: 0.0010\n",
            "Epoch 13/30\n",
            "500/500 [==============================] - 105s 210ms/step - loss: 0.0596 - mse: 0.0121 - val_loss: 0.0587 - val_mse: 0.0118 - lr: 0.0010\n",
            "Epoch 14/30\n",
            "500/500 [==============================] - 105s 210ms/step - loss: 0.0591 - mse: 0.0119 - val_loss: 0.0583 - val_mse: 0.0117 - lr: 0.0010\n",
            "Epoch 15/30\n",
            "500/500 [==============================] - 105s 210ms/step - loss: 0.0585 - mse: 0.0118 - val_loss: 0.0595 - val_mse: 0.0120 - lr: 0.0010\n",
            "Epoch 16/30\n",
            "500/500 [==============================] - 105s 210ms/step - loss: 0.0582 - mse: 0.0117 - val_loss: 0.0576 - val_mse: 0.0114 - lr: 0.0010\n",
            "Epoch 17/30\n",
            "500/500 [==============================] - 106s 212ms/step - loss: 0.0575 - mse: 0.0114 - val_loss: 0.0577 - val_mse: 0.0115 - lr: 0.0010\n",
            "Epoch 18/30\n",
            "500/500 [==============================] - 127s 253ms/step - loss: 0.0569 - mse: 0.0112 - val_loss: 0.0564 - val_mse: 0.0111 - lr: 0.0010\n",
            "Epoch 19/30\n",
            "500/500 [==============================] - 128s 256ms/step - loss: 0.0565 - mse: 0.0111 - val_loss: 0.0566 - val_mse: 0.0111 - lr: 0.0010\n",
            "Epoch 20/30\n",
            "500/500 [==============================] - 127s 255ms/step - loss: 0.0562 - mse: 0.0110 - val_loss: 0.0562 - val_mse: 0.0110 - lr: 0.0010\n",
            "Epoch 21/30\n",
            "500/500 [==============================] - 127s 254ms/step - loss: 0.0557 - mse: 0.0108 - val_loss: 0.0541 - val_mse: 0.0103 - lr: 0.0010\n",
            "Epoch 22/30\n",
            "500/500 [==============================] - 127s 255ms/step - loss: 0.0558 - mse: 0.0108 - val_loss: 0.0551 - val_mse: 0.0106 - lr: 0.0010\n",
            "Epoch 23/30\n",
            "500/500 [==============================] - 127s 254ms/step - loss: 0.0553 - mse: 0.0107 - val_loss: 0.0547 - val_mse: 0.0105 - lr: 0.0010\n",
            "Epoch 24/30\n",
            "500/500 [==============================] - 128s 255ms/step - loss: 0.0548 - mse: 0.0105 - val_loss: 0.0537 - val_mse: 0.0103 - lr: 0.0010\n",
            "Epoch 25/30\n",
            "500/500 [==============================] - 111s 222ms/step - loss: 0.0545 - mse: 0.0104 - val_loss: 0.0541 - val_mse: 0.0104 - lr: 0.0010\n",
            "Epoch 26/30\n",
            "500/500 [==============================] - 106s 211ms/step - loss: 0.0541 - mse: 0.0103 - val_loss: 0.0537 - val_mse: 0.0102 - lr: 0.0010\n",
            "Epoch 27/30\n",
            "500/500 [==============================] - 105s 211ms/step - loss: 0.0539 - mse: 0.0103 - val_loss: 0.0533 - val_mse: 0.0100 - lr: 0.0010\n",
            "Epoch 28/30\n",
            "500/500 [==============================] - 105s 211ms/step - loss: 0.0536 - mse: 0.0102 - val_loss: 0.0542 - val_mse: 0.0103 - lr: 0.0010\n",
            "Epoch 29/30\n",
            "500/500 [==============================] - 105s 211ms/step - loss: 0.0534 - mse: 0.0101 - val_loss: 0.0540 - val_mse: 0.0103 - lr: 0.0010\n",
            "Epoch 30/30\n",
            "500/500 [==============================] - 105s 210ms/step - loss: 0.0531 - mse: 0.0100 - val_loss: 0.0540 - val_mse: 0.0103 - lr: 0.0010\n"
          ]
        }
      ],
      "source": [
        "train_model(model_autoenc_inc, train_gen, val_gen, epochs=30, steps_per_epoch=500, val_steps=60, callbacks=[early_stopping, reduce_lr])\n",
        "# model_autoenc_inc.save_weights('./models/500_30/model_autoenc_inc_weights', overwrite=True, save_format=None, options=None)"
      ]
    },
    {
      "cell_type": "code",
      "execution_count": 29,
      "metadata": {},
      "outputs": [],
      "source": [
        "LR_SCHEDULE3 = [\n",
        "    (5, 0.001),\n",
        "]\n",
        "\n",
        "reduce_lr3 = CustomLearningRateScheduler(LR_SCHEDULE3)"
      ]
    },
    {
      "cell_type": "code",
      "execution_count": 38,
      "metadata": {},
      "outputs": [
        {
          "name": "stdout",
          "output_type": "stream",
          "text": [
            "Epoch 1/20\n"
          ]
        },
        {
          "name": "stderr",
          "output_type": "stream",
          "text": [
            "2023-07-09 18:31:50.058183: I tensorflow/core/common_runtime/executor.cc:1197] [/device:CPU:0] (DEBUG INFO) Executor start aborting (this does not indicate an error and you can ignore this message): INVALID_ARGUMENT: You must feed a value for placeholder tensor 'Placeholder/_0' with dtype int32\n",
            "\t [[{{node Placeholder/_0}}]]\n"
          ]
        },
        {
          "name": "stdout",
          "output_type": "stream",
          "text": [
            "500/500 [==============================] - ETA: 0s - loss: 0.0532 - mse: 0.0100"
          ]
        },
        {
          "name": "stderr",
          "output_type": "stream",
          "text": [
            "2023-07-09 18:33:52.635729: I tensorflow/core/common_runtime/executor.cc:1197] [/device:CPU:0] (DEBUG INFO) Executor start aborting (this does not indicate an error and you can ignore this message): INVALID_ARGUMENT: You must feed a value for placeholder tensor 'Placeholder/_0' with dtype int32\n",
            "\t [[{{node Placeholder/_0}}]]\n"
          ]
        },
        {
          "name": "stdout",
          "output_type": "stream",
          "text": [
            "500/500 [==============================] - 128s 256ms/step - loss: 0.0532 - mse: 0.0100 - val_loss: 0.0530 - val_mse: 0.0099 - lr: 0.0010\n",
            "Epoch 2/20\n",
            "500/500 [==============================] - 186s 373ms/step - loss: 0.0529 - mse: 0.0100 - val_loss: 0.0529 - val_mse: 0.0099 - lr: 0.0010\n",
            "Epoch 3/20\n",
            "500/500 [==============================] - 155s 309ms/step - loss: 0.0525 - mse: 0.0098 - val_loss: 0.0527 - val_mse: 0.0099 - lr: 0.0010\n",
            "Epoch 4/20\n",
            "500/500 [==============================] - 104s 209ms/step - loss: 0.0526 - mse: 0.0098 - val_loss: 0.0522 - val_mse: 0.0097 - lr: 0.0010\n",
            "Epoch 5/20\n",
            "500/500 [==============================] - 105s 210ms/step - loss: 0.0525 - mse: 0.0098 - val_loss: 0.0526 - val_mse: 0.0099 - lr: 0.0010\n",
            "Epoch 6/20\n",
            "500/500 [==============================] - 105s 210ms/step - loss: 0.0523 - mse: 0.0097 - val_loss: 0.0525 - val_mse: 0.0097 - lr: 1.0000e-03\n",
            "Epoch 7/20\n",
            "500/500 [==============================] - 105s 210ms/step - loss: 0.0521 - mse: 0.0097 - val_loss: 0.0516 - val_mse: 0.0095 - lr: 0.0010\n",
            "Epoch 8/20\n",
            "500/500 [==============================] - 105s 210ms/step - loss: 0.0518 - mse: 0.0096 - val_loss: 0.0527 - val_mse: 0.0098 - lr: 0.0010\n",
            "Epoch 9/20\n",
            "500/500 [==============================] - 105s 211ms/step - loss: 0.0520 - mse: 0.0096 - val_loss: 0.0511 - val_mse: 0.0093 - lr: 0.0010\n",
            "Epoch 10/20\n",
            "500/500 [==============================] - 105s 211ms/step - loss: 0.0514 - mse: 0.0094 - val_loss: 0.0515 - val_mse: 0.0096 - lr: 0.0010\n",
            "Epoch 11/20\n",
            "500/500 [==============================] - 105s 211ms/step - loss: 0.0517 - mse: 0.0095 - val_loss: 0.0516 - val_mse: 0.0095 - lr: 0.0010\n",
            "Epoch 12/20\n",
            "500/500 [==============================] - 105s 211ms/step - loss: 0.0516 - mse: 0.0095 - val_loss: 0.0515 - val_mse: 0.0095 - lr: 0.0010\n",
            "Epoch 13/20\n",
            "500/500 [==============================] - 105s 211ms/step - loss: 0.0512 - mse: 0.0094 - val_loss: 0.0520 - val_mse: 0.0096 - lr: 0.0010\n",
            "Epoch 14/20\n",
            "500/500 [==============================] - 105s 211ms/step - loss: 0.0509 - mse: 0.0093 - val_loss: 0.0510 - val_mse: 0.0093 - lr: 0.0010\n",
            "Epoch 15/20\n",
            "500/500 [==============================] - 106s 211ms/step - loss: 0.0510 - mse: 0.0093 - val_loss: 0.0502 - val_mse: 0.0091 - lr: 0.0010\n",
            "Epoch 16/20\n",
            "500/500 [==============================] - 105s 211ms/step - loss: 0.0509 - mse: 0.0092 - val_loss: 0.0514 - val_mse: 0.0094 - lr: 0.0010\n",
            "Epoch 17/20\n",
            "500/500 [==============================] - 105s 211ms/step - loss: 0.0509 - mse: 0.0093 - val_loss: 0.0511 - val_mse: 0.0093 - lr: 0.0010\n",
            "Epoch 18/20\n",
            "500/500 [==============================] - 105s 211ms/step - loss: 0.0505 - mse: 0.0091 - val_loss: 0.0513 - val_mse: 0.0093 - lr: 0.0010\n",
            "Epoch 19/20\n",
            "500/500 [==============================] - 105s 211ms/step - loss: 0.0506 - mse: 0.0092 - val_loss: 0.0510 - val_mse: 0.0093 - lr: 0.0010\n",
            "Epoch 20/20\n",
            "500/500 [==============================] - 106s 211ms/step - loss: 0.0505 - mse: 0.0091 - val_loss: 0.0515 - val_mse: 0.0095 - lr: 0.0010\n"
          ]
        },
        {
          "data": {
            "text/plain": [
              "<keras.callbacks.History at 0x7ff391d8fb20>"
            ]
          },
          "execution_count": 38,
          "metadata": {},
          "output_type": "execute_result"
        }
      ],
      "source": [
        "train_model(model_autoenc_inc, train_gen, val_gen, epochs=20, steps_per_epoch=500, val_steps=60, callbacks=[early_stopping, reduce_lr3])"
      ]
    },
    {
      "cell_type": "code",
      "execution_count": 40,
      "metadata": {},
      "outputs": [],
      "source": [
        "model_autoenc_inc.save_weights('./models/500_30/model_autoenc_inc_weights', overwrite=True, save_format=None, options=None)"
      ]
    },
    {
      "cell_type": "code",
      "execution_count": 42,
      "metadata": {},
      "outputs": [
        {
          "data": {
            "text/plain": [
              "<tensorflow.python.checkpoint.checkpoint.CheckpointLoadStatus at 0x7ff5427499d0>"
            ]
          },
          "execution_count": 42,
          "metadata": {},
          "output_type": "execute_result"
        }
      ],
      "source": [
        "# Load Weights for 500/30\n",
        "# model_3lstm_conv.load_weights('./models/500_30/model_3lstm_conv_weights', skip_mismatch=False, by_name=False, options=None)\n",
        "model_autoenc.load_weights('./models/500_30/model_autoenc_weights', skip_mismatch=False, by_name=False, options=None)\n",
        "model_autoenc_att.load_weights('./models/500_30/model_autoenc_att_weights', skip_mismatch=False, by_name=False, options=None)\n",
        "# model_autoenc_att_res.load_weights('./models/500_30/model_autoenc_att_res_weights', skip_mismatch=False, by_name=False, options=None)\n",
        "# model_autoenc_inc.load_weights('./models/500_30/model_autoenc_inc_weights', skip_mismatch=False, by_name=False, options=None)"
      ]
    },
    {
      "cell_type": "code",
      "execution_count": 45,
      "metadata": {},
      "outputs": [
        {
          "data": {
            "image/png": "[encoded data removed]",
            "text/plain": [
              "<Figure size 1000x4000 with 4 Axes>"
            ]
          },
          "metadata": {},
          "output_type": "display_data"
        },
        {
          "data": {
            "image/png": "[encoded data removed]",
            "text/plain": [
              "<Figure size 1000x4000 with 4 Axes>"
            ]
          },
          "metadata": {},
          "output_type": "display_data"
        },
        {
          "data": {
            "image/png": "[encoded data removed]",
            "text/plain": [
              "<Figure size 1000x4000 with 4 Axes>"
            ]
          },
          "metadata": {},
          "output_type": "display_data"
        },
        {
          "data": {
            "image/png": "[encoded data removed]",
            "text/plain": [
              "<Figure size 1000x4000 with 4 Axes>"
            ]
          },
          "metadata": {},
          "output_type": "display_data"
        },
        {
          "data": {
            "image/png": "[encoded data removed]",
            "text/plain": [
              "<Figure size 1000x4000 with 4 Axes>"
            ]
          },
          "metadata": {},
          "output_type": "display_data"
        },
        {
          "data": {
            "image/png": "[encoded data removed]",
            "text/plain": [
              "<Figure size 1000x4000 with 4 Axes>"
            ]
          },
          "metadata": {},
          "output_type": "display_data"
        }
      ],
      "source": [
        "models2 = {\n",
        "  'lstm3': {\n",
        "    'model': model_3lstm_conv,\n",
        "    'name': 'ConvLSTM 3 Layer'\n",
        "  },\n",
        "  'autoenc': {\n",
        "    'model': model_autoenc,\n",
        "    'name': 'Enc-Dec',\n",
        "  },\n",
        "  'autoenc_att': {\n",
        "    'model': model_autoenc_att,\n",
        "    'name': 'Att-Enc-Dec'\n",
        "  },\n",
        "  'autoenc_inc': {\n",
        "    'model': model_autoenc_inc,\n",
        "    'name': 'Enc-Inc-Dec'\n",
        "  },\n",
        "  'autoenc_att_res': {\n",
        "    'model': model_autoenc_att_res,\n",
        "    'name': 'Att-Enc-Att-Dec+Residual'\n",
        "  },\n",
        "}\n",
        "compare_models_visual(models2, test_gen)"
      ]
    },
    {
      "cell_type": "code",
      "execution_count": 44,
      "metadata": {},
      "outputs": [
        {
          "name": "stdout",
          "output_type": "stream",
          "text": [
            "Evaluating ConvLSTM 3 Layer\n",
            "  15/1000 [..............................] - ETA: 12s - loss: 0.0777 - mse: 0.0174"
          ]
        },
        {
          "name": "stderr",
          "output_type": "stream",
          "text": [
            "2023-07-09 20:37:16.157304: I tensorflow/core/common_runtime/executor.cc:1197] [/device:CPU:0] (DEBUG INFO) Executor start aborting (this does not indicate an error and you can ignore this message): INVALID_ARGUMENT: You must feed a value for placeholder tensor 'Placeholder/_0' with dtype int32\n",
            "\t [[{{node Placeholder/_0}}]]\n"
          ]
        },
        {
          "name": "stdout",
          "output_type": "stream",
          "text": [
            "1000/1000 [==============================] - 11s 11ms/step - loss: 0.0726 - mse: 0.0159\n",
            "Evaluating Enc-Dec\n"
          ]
        },
        {
          "name": "stderr",
          "output_type": "stream",
          "text": [
            "2023-07-09 20:37:26.921635: I tensorflow/core/common_runtime/executor.cc:1197] [/device:CPU:0] (DEBUG INFO) Executor start aborting (this does not indicate an error and you can ignore this message): INVALID_ARGUMENT: You must feed a value for placeholder tensor 'Placeholder/_0' with dtype int32\n",
            "\t [[{{node Placeholder/_0}}]]\n"
          ]
        },
        {
          "name": "stdout",
          "output_type": "stream",
          "text": [
            "1000/1000 [==============================] - 8s 7ms/step - loss: 0.0545 - mse: 0.0104\n",
            "Evaluating Att-Enc-Dec\n"
          ]
        },
        {
          "name": "stderr",
          "output_type": "stream",
          "text": [
            "2023-07-09 20:37:35.007087: I tensorflow/core/common_runtime/executor.cc:1197] [/device:CPU:0] (DEBUG INFO) Executor start aborting (this does not indicate an error and you can ignore this message): INVALID_ARGUMENT: You must feed a value for placeholder tensor 'Placeholder/_0' with dtype int32\n",
            "\t [[{{node Placeholder/_0}}]]\n"
          ]
        },
        {
          "name": "stdout",
          "output_type": "stream",
          "text": [
            "1000/1000 [==============================] - 9s 8ms/step - loss: 0.0650 - mse: 0.0138\n",
            "Evaluating Enc-Inc-Dec\n",
            "  19/1000 [..............................] - ETA: 8s - loss: 0.0430 - mse: 0.0074"
          ]
        },
        {
          "name": "stderr",
          "output_type": "stream",
          "text": [
            "2023-07-09 20:37:43.586911: I tensorflow/core/common_runtime/executor.cc:1197] [/device:CPU:0] (DEBUG INFO) Executor start aborting (this does not indicate an error and you can ignore this message): INVALID_ARGUMENT: You must feed a value for placeholder tensor 'Placeholder/_0' with dtype int32\n",
            "\t [[{{node Placeholder/_0}}]]\n"
          ]
        },
        {
          "name": "stdout",
          "output_type": "stream",
          "text": [
            "1000/1000 [==============================] - 9s 9ms/step - loss: 0.0508 - mse: 0.0093\n",
            "Evaluating Att-Enc-Att-Dec+Residual\n",
            "  13/1000 [..............................] - ETA: 12s - loss: 0.0475 - mse: 0.0080"
          ]
        },
        {
          "name": "stderr",
          "output_type": "stream",
          "text": [
            "2023-07-09 20:37:52.639798: I tensorflow/core/common_runtime/executor.cc:1197] [/device:CPU:0] (DEBUG INFO) Executor start aborting (this does not indicate an error and you can ignore this message): INVALID_ARGUMENT: You must feed a value for placeholder tensor 'Placeholder/_0' with dtype int32\n",
            "\t [[{{node Placeholder/_0}}]]\n"
          ]
        },
        {
          "name": "stdout",
          "output_type": "stream",
          "text": [
            "1000/1000 [==============================] - 13s 13ms/step - loss: 0.0475 - mse: 0.0081\n"
          ]
        }
      ],
      "source": [
        "compare_models_mse(models2, test_gen)"
      ]
    },
    {
      "cell_type": "markdown",
      "metadata": {},
      "source": [
        "The last two models, the one with the residual connection and the other with the inception module, were trained for 20 more epochs to check if they could further improve. "
      ]
    },
    {
      "attachments": {},
      "cell_type": "markdown",
      "metadata": {},
      "source": [
        "References\n",
        "1) Convolutional LSTM Network: A Machine Learning Approach for Precipitation Nowcasting. https://arxiv.org/abs/1506.04214\n",
        "2) Batch Normalization: Batch Normalization: Accelerating Deep Network Training by Reducing Internal Covariate Shift https://arxiv.org/pdf/1502.03167.pdf\n",
        "3) BN + Dropout: https://arxiv.org/pdf/1905.05928.pdf\n",
        "4) Super Convergence: https://arxiv.org/pdf/1708.07120.pdf\n",
        "5) SimVP: https://arxiv.org/pdf/2211.12509v3.pdf\n",
        "6) A DISCIPLINED APPROACH TO NEURAL NETWORK HYPER-PARAMETERS: https://arxiv.org/pdf/1803.09820.pdf\n",
        "7) No More Pesky Learning Rate Guessing Games: https://arxiv.org/pdf/1506.01186v2.pdf\n",
        "8) Inception-v4: https://arxiv.org/pdf/1602.07261v2.pdf\n",
        "9) Rethinking the Inception Architecture for Computer Vision: https://arxiv.org/pdf/1512.00567.pdf"
      ]
    }
  ],
  "metadata": {
    "accelerator": "GPU",
    "colab": {
      "gpuType": "T4",
      "provenance": []
    },
    "kernelspec": {
      "display_name": "Python 3",
      "name": "python3"
    },
    "language_info": {
      "codemirror_mode": {
        "name": "ipython",
        "version": 3
      },
      "file_extension": ".py",
      "mimetype": "text/x-python",
      "name": "python",
      "nbconvert_exporter": "python",
      "pygments_lexer": "ipython3",
      "version": "3.9.12"
    }
  },
  "nbformat": 4,
  "nbformat_minor": 0
}
